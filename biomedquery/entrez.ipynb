{
 "cells": [
  {
   "cell_type": "markdown",
   "metadata": {},
   "source": [
    "# Entrez Utilities (eutils)\n",
    "\n",
    "\n",
    "BiomedQuery.Entrez provides an interface to some of the functionality in the [Entrez Utility API](https://www.ncbi.nlm.nih.gov/books/NBK25501/). \n",
    "\n",
    "The following E-utils functions have been implemented:\n",
    "\n",
    "- ESearch\n",
    "- EFetch\n",
    "- ELink\n",
    "- ESummary\n",
    "\n",
    "The following utility functions are available to handle and store NCBI responses\n",
    "\n",
    "- EParse - Convert XML response to Julia Dict\n",
    "- Saving NCBI Responses to XML\n",
    "- Saving EFetch to a SQLite database\n",
    "- Saving EFetch to a MySQL database\n",
    "\n",
    "The following utility functions are available to query the database\n",
    "\n",
    "- All PMIDs\n",
    "- All MESH descriptors for an article\n"
   ]
  },
  {
   "cell_type": "markdown",
   "metadata": {},
   "source": [
    "## Import the Module and Environment Variables\n"
   ]
  },
  {
   "cell_type": "code",
   "execution_count": null,
   "metadata": {
    "collapsed": false
   },
   "outputs": [],
   "source": [
    "using BioMedQuery.Entrez\n",
    "email = ENV[\"NCBI_EMAIL\"];\n",
    "umls_user = ENV[\"UMLS_USER\"];\n",
    "umls_psswd = ENV[\"UMLS_PSSWD\"];"
   ]
  },
  {
   "cell_type": "markdown",
   "metadata": {},
   "source": [
    "## 1. esearch\n",
    "\n",
    "esearch(search_dict): Requests a list of UIDS matchin a query. The input is a dictionary specifying all requiered parameters specified in the Entrez documentation [NCBI Entrez:Esearch](http://www.ncbi.nlm.nih.gov/books/NBK25499/#chapter4.ESearch).\n",
    "\n",
    "For instance, let's request 10 pmids for papers matching the query: (asthma[MeSH Terms]) AND (\"2001/01/29\"[Date - Publication] : \"2010\"[Date - Publication])"
   ]
  },
  {
   "cell_type": "code",
   "execution_count": null,
   "metadata": {
    "collapsed": false
   },
   "outputs": [],
   "source": [
    "search_term = \"\"\"(asthma[MeSH Terms]) AND (\"2001/01/29\"[Date - Publication] : \"2010\"[Date - Publication])\"\"\"\n",
    "search_dic = Dict(\"db\"=>\"pubmed\", \"term\" => search_term,\n",
    "\"retstart\" => 0, \"retmax\"=>10,\n",
    "\"email\" => email)\n",
    "esearch_response = esearch(search_dic)"
   ]
  },
  {
   "cell_type": "markdown",
   "metadata": {},
   "source": [
    "### Save the response to file"
   ]
  },
  {
   "cell_type": "code",
   "execution_count": null,
   "metadata": {
    "collapsed": false
   },
   "outputs": [],
   "source": [
    "using XMLconvert\n",
    "xmlASCII2file(esearch_response, \"./esearch.xml\");"
   ]
  },
  {
   "cell_type": "markdown",
   "metadata": {},
   "source": [
    "### Convert to a Julia (Multi) Dictionary"
   ]
  },
  {
   "cell_type": "code",
   "execution_count": null,
   "metadata": {
    "collapsed": false
   },
   "outputs": [],
   "source": [
    "esearch_dict = eparse(esearch_response)\n",
    "println(\"Type of esearch_dict: \", typeof(esearch_dict))\n",
    "show_key_structure(esearch_dict)"
   ]
  },
  {
   "cell_type": "markdown",
   "metadata": {},
   "source": [
    "### Flatten into Dictionary for easy access"
   ]
  },
  {
   "cell_type": "code",
   "execution_count": null,
   "metadata": {
    "collapsed": false
   },
   "outputs": [],
   "source": [
    "flat_easearch_dict = flatten(esearch_dict)\n",
    "display(flat_easearch_dict)"
   ]
  },
  {
   "cell_type": "markdown",
   "metadata": {},
   "source": [
    "### Get all pmids returned by esearch"
   ]
  },
  {
   "cell_type": "code",
   "execution_count": null,
   "metadata": {
    "collapsed": false
   },
   "outputs": [],
   "source": [
    "ids = Array{Int64,1}(flat_easearch_dict[\"IdList-Id\" ])"
   ]
  },
  {
   "cell_type": "markdown",
   "metadata": {},
   "source": [
    "## 2. efetch"
   ]
  },
  {
   "cell_type": "code",
   "execution_count": null,
   "metadata": {
    "collapsed": false
   },
   "outputs": [],
   "source": [
    "# define the fetch dictionary\n",
    "fetch_dic = Dict(\"db\"=>\"pubmed\",\"tool\" =>\"BioJulia\",\n",
    "\"email\" => \"maria_restrepo@brown.edu\", \"retmode\" => \"xml\", \"rettype\"=>\"null\")\n",
    "\n",
    "# fetch\n",
    "efetch_response = efetch(fetch_dic, ids)"
   ]
  },
  {
   "cell_type": "markdown",
   "metadata": {},
   "source": [
    "### Convert to XML respose to (Multi) Dictionary"
   ]
  },
  {
   "cell_type": "code",
   "execution_count": null,
   "metadata": {
    "collapsed": false
   },
   "outputs": [],
   "source": [
    "efetch_dict = eparse(efetch_response)\n",
    "show_key_structure(efetch_dict)"
   ]
  },
  {
   "cell_type": "markdown",
   "metadata": {},
   "source": [
    "## 3. Save to MySQL"
   ]
  },
  {
   "cell_type": "code",
   "execution_count": null,
   "metadata": {
    "collapsed": false
   },
   "outputs": [],
   "source": [
    "db_config = Dict(:host=>\"127.0.0.1\",\n",
    "                 :dbname=>\"biomed_query_test\",\n",
    "                 :username=>\"root\",\n",
    "                 :pswd=>\"bcbi123\",\n",
    "                 :overwrite=>true)\n",
    "\n",
    "db = save_efetch_mysql(efetch_dict, db_config)"
   ]
  },
  {
   "cell_type": "markdown",
   "metadata": {},
   "source": [
    "### Explore the MySQL Results Database"
   ]
  },
  {
   "cell_type": "code",
   "execution_count": null,
   "metadata": {
    "collapsed": false
   },
   "outputs": [],
   "source": [
    "using MySQL\n",
    "tables = mysql_execute(db, \"show tables;\")\n",
    "display(tables)\n",
    "articles = mysql_execute(db, \"select * from article limit 10\")\n",
    "display(articles)\n",
    "authors = mysql_execute(db, \"select * from author limit 10\")\n",
    "display(authors)"
   ]
  },
  {
   "cell_type": "markdown",
   "metadata": {
    "collapsed": true
   },
   "source": [
    "## 4. Save as publications"
   ]
  },
  {
   "cell_type": "code",
   "execution_count": null,
   "metadata": {
    "collapsed": false
   },
   "outputs": [],
   "source": [
    "citation_config = Dict(:type => \"bibtex\", :output_file => \"citations_test.bib\", :overwrite=>true)\n",
    "    save_article_citations(efetch_dict, citation_config);"
   ]
  },
  {
   "cell_type": "markdown",
   "metadata": {
    "collapsed": true
   },
   "source": [
    "# BioMedQuery.Processes\n",
    "\n",
    "The library comes with a series a \"pre-assembled\" workflows. For instance, we often need to call esearc, efetch and save to database as a pipeline."
   ]
  },
  {
   "cell_type": "code",
   "execution_count": null,
   "metadata": {
    "collapsed": true
   },
   "outputs": [],
   "source": [
    "using BioMedQuery.Processes"
   ]
  },
  {
   "cell_type": "markdown",
   "metadata": {},
   "source": [
    "### esearch, efetch, mysql_save in one line of code"
   ]
  },
  {
   "cell_type": "code",
   "execution_count": null,
   "metadata": {
    "collapsed": false
   },
   "outputs": [],
   "source": [
    "db = pubmed_search_and_save(email, search_term, 10,\n",
    "    save_efetch_mysql, db_config);"
   ]
  },
  {
   "cell_type": "markdown",
   "metadata": {},
   "source": [
    "### esearch, efetch, save citations in one line of code"
   ]
  },
  {
   "cell_type": "code",
   "execution_count": null,
   "metadata": {
    "collapsed": false
   },
   "outputs": [],
   "source": [
    "pubmed_search_and_save(email, search_term, 10,\n",
    "    save_article_citations, citation_config);"
   ]
  }
 ],
 "metadata": {
  "kernelspec": {
   "display_name": "Julia 0.5.1",
   "language": "julia",
   "name": "julia-0.5"
  },
  "language_info": {
   "file_extension": ".jl",
   "mimetype": "application/julia",
   "name": "julia",
   "version": "0.5.1"
  }
 },
 "nbformat": 4,
 "nbformat_minor": 2
}
