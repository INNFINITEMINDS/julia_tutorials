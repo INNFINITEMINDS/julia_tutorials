{
 "cells": [
  {
   "cell_type": "markdown",
   "metadata": {},
   "source": [
    "# BioMedQuery.UMLS\n",
    "\n",
    "\n",
    "Utilities to search the Unified Medical Language System (UMLS). This is a Julia interface to their [REST API](https://documentation.uts.nlm.nih.gov/rest/home.html).\n",
    "\n",
    "Searching the UMLS requires approved credentials. You can sign up [here](https://uts.nlm.nih.gov//license.html)\n",
    "\n",
    "As of today, the following utilities are available:\n",
    "\n",
    "* verify credentials / issue umls tickets\n",
    "* search_umls\n",
    "* get the best maching cui from a query\n",
    "* get the semantic type"
   ]
  },
  {
   "cell_type": "markdown",
   "metadata": {},
   "source": [
    "## 1. Set Up"
   ]
  },
  {
   "cell_type": "code",
   "execution_count": null,
   "metadata": {
    "collapsed": false
   },
   "outputs": [],
   "source": [
    "using BioMedQuery.UMLS\n",
    "user = ENV[\"UMLS_USER\"];\n",
    "psswd = ENV[\"UMLS_PSSWD\"];\n",
    "credentials = Credentials(user, psswd)\n",
    "query = Dict(\"string\"=>\"asthma\", \"searchType\"=>\"exact\")"
   ]
  },
  {
   "cell_type": "markdown",
   "metadata": {},
   "source": [
    "## 2. Get a ticket and submit query"
   ]
  },
  {
   "cell_type": "code",
   "execution_count": null,
   "metadata": {
    "collapsed": false
   },
   "outputs": [],
   "source": [
    "tgt = get_tgt(credentials)\n",
    "all_results = search_umls(tgt, query)"
   ]
  },
  {
   "cell_type": "markdown",
   "metadata": {},
   "source": [
    "## 3.  Get best matching cui and it's semantic type"
   ]
  },
  {
   "cell_type": "code",
   "execution_count": null,
   "metadata": {
    "collapsed": false
   },
   "outputs": [],
   "source": [
    "cui = best_match_cui(all_results)\n",
    "display(cui)\n",
    "sm = get_semantic_type(tgt, cui)\n",
    "display(sm)"
   ]
  },
  {
   "cell_type": "markdown",
   "metadata": {},
   "source": [
    "### Processes available for UMLS\n",
    "\n",
    "a. Get all UMLS semantic types for all MeSH sotore in a database corresponding to results from an Entrez query\n",
    "\n",
    "b. For all articles in the 'results' database, filter all MeSH associated with a specific semantic type"
   ]
  },
  {
   "cell_type": "code",
   "execution_count": null,
   "metadata": {
    "collapsed": false
   },
   "outputs": [],
   "source": [
    "using BioMedQuery.Processes\n",
    "using MySQL\n",
    "\n",
    "db_host = \"127.0.0.1\"\n",
    "mysql_usr = \"root\"\n",
    "mysql_pswd = \"bcbi123\"\n",
    "dbname = \"biomed_query_test\"\n",
    "\n",
    "db = mysql_connect(db_host, mysql_usr, mysql_pswd, dbname)\n",
    "\n",
    "map_mesh_to_umls_async!(db, credentials)\n"
   ]
  },
  {
   "cell_type": "code",
   "execution_count": null,
   "metadata": {
    "collapsed": false
   },
   "outputs": [],
   "source": [
    "tables = mysql_execute(db, \"show tables;\")\n",
    "display(tables)"
   ]
  },
  {
   "cell_type": "code",
   "execution_count": null,
   "metadata": {
    "collapsed": false
   },
   "outputs": [],
   "source": [
    "mesh2umls = mysql_execute(db, \"select * from mesh2umls\")\n",
    "display(mesh2umls)"
   ]
  },
  {
   "cell_type": "markdown",
   "metadata": {},
   "source": [
    "### b. Filter by semantic type"
   ]
  },
  {
   "cell_type": "code",
   "execution_count": null,
   "metadata": {
    "collapsed": false
   },
   "outputs": [],
   "source": [
    "labels2ind, occur = umls_semantic_occurrences(db, \"Disease or Syndrome\")\n",
    "\n",
    "println(\"-------------------------------------------------------------\")\n",
    "println(\"Output Descritor to Index Dictionary\")\n",
    "display(labels2ind)\n",
    "println(\"-------------------------------------------------------------\")\n",
    "\n",
    "println(\"-------------------------------------------------------------\")\n",
    "println(\"Output Data Matrix\")\n",
    "display(full(occur))\n",
    "println(\"-------------------------------------------------------------\")\n"
   ]
  },
  {
   "cell_type": "markdown",
   "metadata": {},
   "source": [
    "### Plot conditional probabilities as a histogram"
   ]
  },
  {
   "cell_type": "code",
   "execution_count": null,
   "metadata": {
    "collapsed": false
   },
   "outputs": [],
   "source": [
    "collect(keys(labels2ind))"
   ]
  },
  {
   "cell_type": "code",
   "execution_count": null,
   "metadata": {
    "collapsed": false
   },
   "outputs": [],
   "source": [
    "using PlotlyJS\n",
    "\n",
    "trace1 = bar(;x=collect(keys(labels2ind)),\n",
    "            y=sum(occur, 2)[:]./10,\n",
    "            marker=attr(color=\"rgba(50, 171, 96, 0.7)\",\n",
    "            line=attr(color=\"rgba(50, 171, 96, 1.0)\", width=2)))\n",
    "\n",
    "data = [trace1]\n",
    "layout = Layout(;margin_b = 100,\n",
    "                 margin_r =100)\n",
    "\n",
    "plot(data, layout)"
   ]
  },
  {
   "cell_type": "code",
   "execution_count": null,
   "metadata": {
    "collapsed": true
   },
   "outputs": [],
   "source": []
  }
 ],
 "metadata": {
  "kernelspec": {
   "display_name": "Julia 0.5.1",
   "language": "julia",
   "name": "julia-0.5"
  },
  "language_info": {
   "file_extension": ".jl",
   "mimetype": "application/julia",
   "name": "julia",
   "version": "0.5.1"
  }
 },
 "nbformat": 4,
 "nbformat_minor": 2
}
