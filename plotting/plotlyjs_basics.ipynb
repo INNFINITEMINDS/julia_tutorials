{
 "cells": [
  {
   "cell_type": "code",
   "execution_count": 6,
   "metadata": {},
   "outputs": [],
   "source": [
    "using PlotlyJS"
   ]
  },
  {
   "cell_type": "markdown",
   "metadata": {},
   "source": [
    "# Basics"
   ]
  },
  {
   "cell_type": "markdown",
   "metadata": {},
   "source": [
    "### Simple line scatter\n",
    "\n",
    "* First define your traces containing your x,y data, then pass them to the plot() function"
   ]
  },
  {
   "cell_type": "code",
   "execution_count": 24,
   "metadata": {},
   "outputs": [
    {
     "name": "stderr",
     "output_type": "stream",
     "text": [
      "WARNING: Method definition linescatter() in module Main at In[23]:2 overwritten at In[24]:2.\n"
     ]
    },
    {
     "data": {
      "application/vnd.plotly.v1+json": "{\"layout\":{\"margin\":{\"r\":50,\"l\":50,\"b\":50,\"t\":60}},\"data\":[{\"y\":[10,15,13,17],\"type\":\"scatter\",\"x\":[1,2,3,4]}]}",
      "text/html": [
       "<div id=\"bc65d640-2383-488e-b201-c227136b4a2b\" class=\"plotly-graph-div\"></div>\n",
       "\n",
       "<script>\n",
       "    window.PLOTLYENV=window.PLOTLYENV || {};\n",
       "    window.PLOTLYENV.BASE_URL=\"https://plot.ly\";\n",
       "    require(['plotly'], function(Plotly) {\n",
       "        Plotly.newPlot('bc65d640-2383-488e-b201-c227136b4a2b', [{\"y\":[10,15,13,17],\"type\":\"scatter\",\"x\":[1,2,3,4]}],\n",
       "               {\"margin\":{\"r\":50,\"l\":50,\"b\":50,\"t\":60}}, {showLink: false});\n",
       "\n",
       "    });\n",
       " </script>\n"
      ]
     },
     "execution_count": 24,
     "metadata": {},
     "output_type": "execute_result"
    }
   ],
   "source": [
    "function linescatter()\n",
    "    trace1 = scatter(;x=1:4, y=[10, 15, 13, 17])\n",
    "    plot(trace1)\n",
    "end\n",
    "linescatter()"
   ]
  },
  {
   "cell_type": "markdown",
   "metadata": {},
   "source": [
    "### Customize and multiple traces in one plot\n",
    "\n",
    "* Customize markers vs lines: Trace attributes are part of the trace definition\n",
    "* Muliple traces in one plot: Define multiple traces and pass them as an array to plot()\n",
    "\n",
    "[JavaScript Docs](https://plot.ly/javascript/line-charts/)"
   ]
  },
  {
   "cell_type": "code",
   "execution_count": 20,
   "metadata": {},
   "outputs": [
    {
     "name": "stderr",
     "output_type": "stream",
     "text": [
      "WARNING: Method definition linescatter2() in module Main at In[19]:2 overwritten at In[20]:2.\n"
     ]
    },
    {
     "data": {
      "application/vnd.plotly.v1+json": "{\"layout\":{\"margin\":{\"r\":50,\"l\":50,\"b\":50,\"t\":60}},\"data\":[{\"y\":[10,15,13,17],\"name\":\"marker only\",\"type\":\"scatter\",\"x\":[1,2,3,4],\"mode\":\"markers\"},{\"y\":[16,5,11,9],\"name\":\"line\",\"type\":\"scatter\",\"x\":[1,2,3,4],\"mode\":\"lines\"},{\"y\":[12,9,15,12],\"name\":\"line+marker\",\"type\":\"scatter\",\"x\":[1,2,3,4],\"mode\":\"lines+markers\"},{\"y\":[5,10,8,12],\"name\":\"dash\",\"type\":\"scatter\",\"line\":{\"dash\":\"dash\"},\"x\":[1,2,3,4],\"mode\":\"lines\"}]}",
      "text/html": [
       "<div id=\"ab312199-0ad4-463e-93b9-ac924d5f22cd\" class=\"plotly-graph-div\"></div>\n",
       "\n",
       "<script>\n",
       "    window.PLOTLYENV=window.PLOTLYENV || {};\n",
       "    window.PLOTLYENV.BASE_URL=\"https://plot.ly\";\n",
       "    require(['plotly'], function(Plotly) {\n",
       "        Plotly.newPlot('ab312199-0ad4-463e-93b9-ac924d5f22cd', [{\"y\":[10,15,13,17],\"name\":\"marker only\",\"type\":\"scatter\",\"x\":[1,2,3,4],\"mode\":\"markers\"},{\"y\":[16,5,11,9],\"name\":\"line\",\"type\":\"scatter\",\"x\":[1,2,3,4],\"mode\":\"lines\"},{\"y\":[12,9,15,12],\"name\":\"line+marker\",\"type\":\"scatter\",\"x\":[1,2,3,4],\"mode\":\"lines+markers\"},{\"y\":[5,10,8,12],\"name\":\"dash\",\"type\":\"scatter\",\"line\":{\"dash\":\"dash\"},\"x\":[1,2,3,4],\"mode\":\"lines\"}],\n",
       "               {\"margin\":{\"r\":50,\"l\":50,\"b\":50,\"t\":60}}, {showLink: false});\n",
       "\n",
       "    });\n",
       " </script>\n"
      ]
     },
     "execution_count": 20,
     "metadata": {},
     "output_type": "execute_result"
    }
   ],
   "source": [
    "function linescatter2()\n",
    "    trace1 = scatter(;x=1:4, y=[10, 15, 13, 17], mode=\"markers\", name=\"marker only\")\n",
    "    trace2 = scatter(;x=1:4, y=[16, 5, 11, 9], mode=\"lines\", name=\"line\")\n",
    "    trace3 = scatter(;x=1:4, y=[12, 9, 15, 12], mode=\"lines+markers\", name=\"line+marker\")\n",
    "    trace4 = scatter(;x=1:4, y=[5, 10, 8, 12], mode=\"lines\", line_dash=\"dash\", name=\"dash\")\n",
    "    plot([trace1, trace2, trace3, trace4])\n",
    "end\n",
    "linescatter2()"
   ]
  },
  {
   "cell_type": "markdown",
   "metadata": {},
   "source": [
    "### Adding data labels and Figure Layout\n",
    "\n",
    "* Add the array of labels as an attribute to each trace\n",
    "* The figure layout is a separate argument modifying the \"Figure Pane Attributes\"\n"
   ]
  },
  {
   "cell_type": "code",
   "execution_count": 8,
   "metadata": {},
   "outputs": [
    {
     "name": "stderr",
     "output_type": "stream",
     "text": [
      "WARNING: Method definition linescatter3() in module Main at In[7]:2 overwritten at In[8]:2.\n"
     ]
    },
    {
     "data": {
      "application/vnd.plotly.v1+json": "{\"layout\":{\"yaxis\":{\"range\":[0,8]},\"legend\":{\"y\":0.5,\"size\":20,\"yref\":\"paper\",\"color\":\"grey\",\"family\":\"Arial, sans-serif\"},\"xaxis\":{\"range\":[0.75,5.25]},\"title\":\"Data Labels on the Plot\",\"margin\":{\"r\":50,\"l\":50,\"b\":50,\"t\":60}},\"data\":[{\"y\":[1,6,3,6,1],\"text\":[\"A-1\",\"A-2\",\"A-3\",\"A-4\",\"A-5\"],\"textfont\":{\"family\":\"Raleway, sans-serif\"},\"name\":\"Team A\",\"type\":\"scatter\",\"x\":[1,2,3,4,5],\"textposition\":\"top center\",\"mode\":\"markers+text\",\"marker\":{\"size\":12}},{\"y\":[4,1,7,1,4],\"text\":[\"B-a\",\"B-b\",\"B-c\",\"B-d\",\"B-e\"],\"textfont\":{\"family\":\"Times New Roman\"},\"name\":\"Team B\",\"type\":\"scatter\",\"x\":[1.0,2.0,3.0,4.0,5.0],\"textposition\":\"bottom center\",\"mode\":\"markers+text\",\"marker\":{\"size\":12}}]}",
      "text/html": [
       "<div id=\"06dafca6-273f-424d-bc3a-169ccb0cbbd0\" class=\"plotly-graph-div\"></div>\n",
       "\n",
       "<script>\n",
       "    window.PLOTLYENV=window.PLOTLYENV || {};\n",
       "    window.PLOTLYENV.BASE_URL=\"https://plot.ly\";\n",
       "    require(['plotly'], function(Plotly) {\n",
       "        Plotly.newPlot('06dafca6-273f-424d-bc3a-169ccb0cbbd0', [{\"y\":[1,6,3,6,1],\"text\":[\"A-1\",\"A-2\",\"A-3\",\"A-4\",\"A-5\"],\"textfont\":{\"family\":\"Raleway, sans-serif\"},\"name\":\"Team A\",\"type\":\"scatter\",\"x\":[1,2,3,4,5],\"textposition\":\"top center\",\"mode\":\"markers+text\",\"marker\":{\"size\":12}},{\"y\":[4,1,7,1,4],\"text\":[\"B-a\",\"B-b\",\"B-c\",\"B-d\",\"B-e\"],\"textfont\":{\"family\":\"Times New Roman\"},\"name\":\"Team B\",\"type\":\"scatter\",\"x\":[1.0,2.0,3.0,4.0,5.0],\"textposition\":\"bottom center\",\"mode\":\"markers+text\",\"marker\":{\"size\":12}}],\n",
       "               {\"yaxis\":{\"range\":[0,8]},\"legend\":{\"y\":0.5,\"size\":20,\"yref\":\"paper\",\"color\":\"grey\",\"family\":\"Arial, sans-serif\"},\"xaxis\":{\"range\":[0.75,5.25]},\"title\":\"Data Labels on the Plot\",\"margin\":{\"r\":50,\"l\":50,\"b\":50,\"t\":60}}, {showLink: false});\n",
       "\n",
       "    });\n",
       " </script>\n"
      ]
     },
     "execution_count": 8,
     "metadata": {},
     "output_type": "execute_result"
    }
   ],
   "source": [
    "function linescatter3()\n",
    "    trace1 = scatter(;x=1:5, y=[1, 6, 3, 6, 1],\n",
    "                      mode=\"markers+text\", name=\"Team A\",\n",
    "                      textposition=\"top center\",\n",
    "                      text=[\"A-1\", \"A-2\", \"A-3\", \"A-4\", \"A-5\"],\n",
    "                      marker_size=12, textfont_family=\"Raleway, sans-serif\")\n",
    "\n",
    "    trace2 = scatter(;x=1:5+0.5, y=[4, 1, 7, 1, 4],\n",
    "                      mode=\"markers+text\", name= \"Team B\",\n",
    "                      textposition=\"bottom center\",\n",
    "                      text= [\"B-a\", \"B-b\", \"B-c\", \"B-d\", \"B-e\"],\n",
    "                      marker_size=12, textfont_family=\"Times New Roman\")\n",
    "\n",
    "    data = [trace1, trace2]\n",
    "\n",
    "    layout = Layout(;title=\"Data Labels on the Plot\", xaxis_range=[0.75, 5.25],\n",
    "                     yaxis_range=[0, 8], legend_y=0.5, legend_yref=\"paper\",\n",
    "                     legend=attr(family=\"Arial, sans-serif\", size=20,\n",
    "                                 color=\"grey\"))\n",
    "    plot(data, layout)\n",
    "end\n",
    "linescatter3()"
   ]
  },
  {
   "cell_type": "markdown",
   "metadata": {},
   "source": [
    "### Other visual interpretations of Matrix Data and Subplots\n",
    "\n",
    "* Easy - just cancatenate plots, but...\n",
    "* 3d subplots are buggy"
   ]
  },
  {
   "cell_type": "code",
   "execution_count": 41,
   "metadata": {},
   "outputs": [
    {
     "name": "stderr",
     "output_type": "stream",
     "text": [
      "WARNING: Method definition matrix_subplots() in module Main at In[40]:2 overwritten at In[41]:2.\n"
     ]
    },
    {
     "data": {
      "application/vnd.plotly.v1+json": "{\"layout\":{\"yaxis2\":{\"domain\":[0.0,1.0],\"anchor\":\"x2\"},\"yaxis1\":{\"domain\":[0.0,1.0],\"anchor\":\"x1\"},\"xaxis1\":{\"domain\":[0.0,0.45],\"anchor\":\"y1\"},\"margin\":{\"r\":50,\"l\":50,\"b\":50,\"t\":60},\"xaxis2\":{\"domain\":[0.55,1.0],\"anchor\":\"y2\"}},\"data\":[{\"yaxis\":\"y1\",\"type\":\"heatmap\",\"xaxis\":\"x1\",\"z\":[[0.7127932392253729,0.9233506648615564,0.011183948606993122,0.9023143029120371,0.2028082825592723,0.4381995810707118,0.6140315706788178,0.468886322729851,0.5030177740488471,0.9960761943056948],[0.16691446030283852,0.06816842586575889,0.33328123906176765,0.5456431144377882,0.7419948126370925,0.06773528898549519,0.7235349973780703,0.09458856693484119,0.13707087912073024,0.7439592457078001],[0.22039815619079528,0.6835261622813191,0.5294426615992607,0.8961096594090618,0.823320954991059,0.20990569228489875,0.6784272074365698,0.2378643480494258,0.7946521880086188,0.11396879686830275],[0.5139638307684453,0.6494050642695182,0.5750304442083392,0.7512011255145576,0.5271095171050137,0.9033804598159574,0.7276157990490966,0.09650113533593863,0.36947115235324435,0.7858322655894061],[0.7833417856763263,0.8332716155886923,0.7875465152723142,0.8953714606534944,0.24899916675755152,0.7557418452132283,0.2139397086536452,0.713540926126935,0.34424151570119355,0.32259753960875215],[0.7553967419040315,0.72152036902535,0.5899595623602474,0.17430883792455343,0.5927833503911155,0.06560231475465095,0.2229609943022124,0.40954798733501496,0.020922686650538536,0.7115144530040307],[0.6297459162378221,0.28758261428512166,0.21883681021710566,0.5341917593489576,0.8124167148344528,0.42504871959518997,0.7394445814502939,0.7812976552458317,0.3058574371205307,0.5418680499630619],[0.13476842765502495,0.24018093211826796,0.5604909390678772,0.0076633384057613885,0.7275894873062754,0.38133073584934607,0.8438383389121815,0.2820568301254709,0.5432621580469517,0.49675223865187745],[0.8507027016097533,0.8617915140290777,0.5735465852676687,0.9736710244332138,0.5200970761165127,0.6361159146782431,0.5882528439895238,0.15088619543575787,0.9179215727809955,0.6048884293019732],[0.901891235211751,0.3443891120558742,0.6515460343081001,0.6980260792590145,0.35944854268196225,0.679531734580989,0.844641450615722,0.10454568062151837,0.6902040479719778,0.3221335186059955]],\"showscale\":false},{\"yaxis\":\"y2\",\"type\":\"contour\",\"xaxis\":\"x2\",\"z\":[[0.7127932392253729,0.9233506648615564,0.011183948606993122,0.9023143029120371,0.2028082825592723,0.4381995810707118,0.6140315706788178,0.468886322729851,0.5030177740488471,0.9960761943056948],[0.16691446030283852,0.06816842586575889,0.33328123906176765,0.5456431144377882,0.7419948126370925,0.06773528898549519,0.7235349973780703,0.09458856693484119,0.13707087912073024,0.7439592457078001],[0.22039815619079528,0.6835261622813191,0.5294426615992607,0.8961096594090618,0.823320954991059,0.20990569228489875,0.6784272074365698,0.2378643480494258,0.7946521880086188,0.11396879686830275],[0.5139638307684453,0.6494050642695182,0.5750304442083392,0.7512011255145576,0.5271095171050137,0.9033804598159574,0.7276157990490966,0.09650113533593863,0.36947115235324435,0.7858322655894061],[0.7833417856763263,0.8332716155886923,0.7875465152723142,0.8953714606534944,0.24899916675755152,0.7557418452132283,0.2139397086536452,0.713540926126935,0.34424151570119355,0.32259753960875215],[0.7553967419040315,0.72152036902535,0.5899595623602474,0.17430883792455343,0.5927833503911155,0.06560231475465095,0.2229609943022124,0.40954798733501496,0.020922686650538536,0.7115144530040307],[0.6297459162378221,0.28758261428512166,0.21883681021710566,0.5341917593489576,0.8124167148344528,0.42504871959518997,0.7394445814502939,0.7812976552458317,0.3058574371205307,0.5418680499630619],[0.13476842765502495,0.24018093211826796,0.5604909390678772,0.0076633384057613885,0.7275894873062754,0.38133073584934607,0.8438383389121815,0.2820568301254709,0.5432621580469517,0.49675223865187745],[0.8507027016097533,0.8617915140290777,0.5735465852676687,0.9736710244332138,0.5200970761165127,0.6361159146782431,0.5882528439895238,0.15088619543575787,0.9179215727809955,0.6048884293019732],[0.901891235211751,0.3443891120558742,0.6515460343081001,0.6980260792590145,0.35944854268196225,0.679531734580989,0.844641450615722,0.10454568062151837,0.6902040479719778,0.3221335186059955]]}]}",
      "text/html": [
       "<div id=\"b0cfdb74-f6ae-4d5e-aec2-0652935a4ee4\" class=\"plotly-graph-div\"></div>\n",
       "\n",
       "<script>\n",
       "    window.PLOTLYENV=window.PLOTLYENV || {};\n",
       "    window.PLOTLYENV.BASE_URL=\"https://plot.ly\";\n",
       "    require(['plotly'], function(Plotly) {\n",
       "        Plotly.newPlot('b0cfdb74-f6ae-4d5e-aec2-0652935a4ee4', [{\"yaxis\":\"y1\",\"type\":\"heatmap\",\"xaxis\":\"x1\",\"z\":[[0.7127932392253729,0.9233506648615564,0.011183948606993122,0.9023143029120371,0.2028082825592723,0.4381995810707118,0.6140315706788178,0.468886322729851,0.5030177740488471,0.9960761943056948],[0.16691446030283852,0.06816842586575889,0.33328123906176765,0.5456431144377882,0.7419948126370925,0.06773528898549519,0.7235349973780703,0.09458856693484119,0.13707087912073024,0.7439592457078001],[0.22039815619079528,0.6835261622813191,0.5294426615992607,0.8961096594090618,0.823320954991059,0.20990569228489875,0.6784272074365698,0.2378643480494258,0.7946521880086188,0.11396879686830275],[0.5139638307684453,0.6494050642695182,0.5750304442083392,0.7512011255145576,0.5271095171050137,0.9033804598159574,0.7276157990490966,0.09650113533593863,0.36947115235324435,0.7858322655894061],[0.7833417856763263,0.8332716155886923,0.7875465152723142,0.8953714606534944,0.24899916675755152,0.7557418452132283,0.2139397086536452,0.713540926126935,0.34424151570119355,0.32259753960875215],[0.7553967419040315,0.72152036902535,0.5899595623602474,0.17430883792455343,0.5927833503911155,0.06560231475465095,0.2229609943022124,0.40954798733501496,0.020922686650538536,0.7115144530040307],[0.6297459162378221,0.28758261428512166,0.21883681021710566,0.5341917593489576,0.8124167148344528,0.42504871959518997,0.7394445814502939,0.7812976552458317,0.3058574371205307,0.5418680499630619],[0.13476842765502495,0.24018093211826796,0.5604909390678772,0.0076633384057613885,0.7275894873062754,0.38133073584934607,0.8438383389121815,0.2820568301254709,0.5432621580469517,0.49675223865187745],[0.8507027016097533,0.8617915140290777,0.5735465852676687,0.9736710244332138,0.5200970761165127,0.6361159146782431,0.5882528439895238,0.15088619543575787,0.9179215727809955,0.6048884293019732],[0.901891235211751,0.3443891120558742,0.6515460343081001,0.6980260792590145,0.35944854268196225,0.679531734580989,0.844641450615722,0.10454568062151837,0.6902040479719778,0.3221335186059955]],\"showscale\":false},{\"yaxis\":\"y2\",\"type\":\"contour\",\"xaxis\":\"x2\",\"z\":[[0.7127932392253729,0.9233506648615564,0.011183948606993122,0.9023143029120371,0.2028082825592723,0.4381995810707118,0.6140315706788178,0.468886322729851,0.5030177740488471,0.9960761943056948],[0.16691446030283852,0.06816842586575889,0.33328123906176765,0.5456431144377882,0.7419948126370925,0.06773528898549519,0.7235349973780703,0.09458856693484119,0.13707087912073024,0.7439592457078001],[0.22039815619079528,0.6835261622813191,0.5294426615992607,0.8961096594090618,0.823320954991059,0.20990569228489875,0.6784272074365698,0.2378643480494258,0.7946521880086188,0.11396879686830275],[0.5139638307684453,0.6494050642695182,0.5750304442083392,0.7512011255145576,0.5271095171050137,0.9033804598159574,0.7276157990490966,0.09650113533593863,0.36947115235324435,0.7858322655894061],[0.7833417856763263,0.8332716155886923,0.7875465152723142,0.8953714606534944,0.24899916675755152,0.7557418452132283,0.2139397086536452,0.713540926126935,0.34424151570119355,0.32259753960875215],[0.7553967419040315,0.72152036902535,0.5899595623602474,0.17430883792455343,0.5927833503911155,0.06560231475465095,0.2229609943022124,0.40954798733501496,0.020922686650538536,0.7115144530040307],[0.6297459162378221,0.28758261428512166,0.21883681021710566,0.5341917593489576,0.8124167148344528,0.42504871959518997,0.7394445814502939,0.7812976552458317,0.3058574371205307,0.5418680499630619],[0.13476842765502495,0.24018093211826796,0.5604909390678772,0.0076633384057613885,0.7275894873062754,0.38133073584934607,0.8438383389121815,0.2820568301254709,0.5432621580469517,0.49675223865187745],[0.8507027016097533,0.8617915140290777,0.5735465852676687,0.9736710244332138,0.5200970761165127,0.6361159146782431,0.5882528439895238,0.15088619543575787,0.9179215727809955,0.6048884293019732],[0.901891235211751,0.3443891120558742,0.6515460343081001,0.6980260792590145,0.35944854268196225,0.679531734580989,0.844641450615722,0.10454568062151837,0.6902040479719778,0.3221335186059955]]}],\n",
       "               {\"yaxis2\":{\"domain\":[0.0,1.0],\"anchor\":\"x2\"},\"yaxis1\":{\"domain\":[0.0,1.0],\"anchor\":\"x1\"},\"xaxis1\":{\"domain\":[0.0,0.45],\"anchor\":\"y1\"},\"margin\":{\"r\":50,\"l\":50,\"b\":50,\"t\":60},\"xaxis2\":{\"domain\":[0.55,1.0],\"anchor\":\"y2\"}}, {showLink: false});\n",
       "\n",
       "    });\n",
       " </script>\n"
      ]
     },
     "execution_count": 41,
     "metadata": {},
     "output_type": "execute_result"
    }
   ],
   "source": [
    "function matrix_subplots()\n",
    "    z = rand(10,10)\n",
    "    trace0 = scatter(; y=z)\n",
    "\n",
    "    trace1 = heatmap(; z=z, showscale=false)\n",
    "    trace2 = contour(; z=z)\n",
    "    trace3 = surface(; z=z)\n",
    "    p = [plot(trace1) plot(trace2)]\n",
    "end\n",
    "\n",
    "matrix_subplots()"
   ]
  },
  {
   "cell_type": "markdown",
   "metadata": {},
   "source": [
    "### Area"
   ]
  },
  {
   "cell_type": "code",
   "execution_count": 44,
   "metadata": {},
   "outputs": [
    {
     "name": "stderr",
     "output_type": "stream",
     "text": [
      "WARNING: Method definition area1() in module Main at In[42]:2 overwritten at In[44]:2.\n"
     ]
    },
    {
     "data": {
      "application/vnd.plotly.v1+json": "{\"layout\":{\"margin\":{\"r\":40,\"l\":140,\"b\":50,\"t\":80}},\"data\":[{\"y\":[0,2,3,5],\"type\":\"scatter\",\"x\":[1,2,3,4],\"fill\":\"tozeroy\"},{\"y\":[3,5,1,7],\"type\":\"scatter\",\"x\":[1,2,3,4],\"fill\":\"tonexty\"}]}",
      "text/html": [
       "<div id=\"ccf5efd8-ed32-43d4-8084-adf15934b74a\" class=\"plotly-graph-div\"></div>\n",
       "\n",
       "<script>\n",
       "    window.PLOTLYENV=window.PLOTLYENV || {};\n",
       "    window.PLOTLYENV.BASE_URL=\"https://plot.ly\";\n",
       "    require(['plotly'], function(Plotly) {\n",
       "        Plotly.newPlot('ccf5efd8-ed32-43d4-8084-adf15934b74a', [{\"y\":[0,2,3,5],\"type\":\"scatter\",\"x\":[1,2,3,4],\"fill\":\"tozeroy\"},{\"y\":[3,5,1,7],\"type\":\"scatter\",\"x\":[1,2,3,4],\"fill\":\"tonexty\"}],\n",
       "               {\"margin\":{\"r\":40,\"l\":140,\"b\":50,\"t\":80}}, {showLink: false});\n",
       "\n",
       "    });\n",
       " </script>\n"
      ]
     },
     "execution_count": 44,
     "metadata": {},
     "output_type": "execute_result"
    }
   ],
   "source": [
    "function area1()\n",
    "    trace1 = scatter(;x=1:4, y=[0, 2, 3, 5], fill=\"tozeroy\")\n",
    "    trace2 = scatter(;x=1:4, y=[3, 5, 1, 7], fill=\"tonexty\")\n",
    "    plot([trace1, trace2])\n",
    "end\n",
    "area1()"
   ]
  },
  {
   "cell_type": "code",
   "execution_count": 43,
   "metadata": {},
   "outputs": [
    {
     "name": "stderr",
     "output_type": "stream",
     "text": [
      "WARNING: Method definition linescatter5() in module Main at In[2]:3 overwritten at In[43]:3.\n"
     ]
    },
    {
     "data": {
      "application/vnd.plotly.v1+json": "{\"layout\":{\"plot_bgcolor\":\"rgb(254, 247, 234)\",\"width\":600,\"hovermode\":\"closest\",\"legend\":{\"font\":{\"size\":10},\"xanchor\":\"right\",\"yanchor\":\"middle\"},\"xaxis\":{\"linecolor\":\"rgb(102, 102, 102)\",\"showline\":true,\"titlefont\":{\"font\":{\"color\":\"rgb(204, 204, 204)\"}},\"tickcolor\":\"rgb(102, 102, 102)\",\"showgrid\":false,\"tickfont\":{\"font\":{\"color\":\"rgb(102, 102, 102)\"}},\"dtick\":10,\"ticks\":\"outside\",\"autotick\":false},\"paper_bgcolor\":\"rgb(254, 247, 234)\",\"title\":\"Votes cast for ten lowest voting age population in OECD countries\",\"margin\":{\"r\":40,\"l\":140,\"b\":50,\"t\":80},\"height\":600},\"data\":[{\"y\":[\"Switzerland (2011)\",\"Chile (2013)\",\"Japan (2014)\",\"United States (2012)\",\"Slovenia (2014)\",\"Canada (2011)\",\"Poland (2010)\",\"Estonia (2015)\",\"Luxembourg (2013)\",\"Portugal (2011)\"],\"name\":\"Percent of estimated voting age population\",\"type\":\"scatter\",\"x\":[40.0,45.7,52.0,53.6,54.1,54.2,54.5,54.7,55.1,56.6],\"mode\":\"markers\",\"marker\":{\"symbol\":\"circle\",\"line\":{\"width\":1,\"color\":\"rgba(156, 165, 196, 1.0)\"},\"size\":16,\"color\":\"rgba(156, 165, 196, 0.95)\"}},{\"y\":[\"Switzerland (2011)\",\"Chile (2013)\",\"Japan (2014)\",\"United States (2012)\",\"Slovenia (2014)\",\"Canada (2011)\",\"Poland (2010)\",\"Estonia (2015)\",\"Luxembourg (2013)\",\"Portugal (2011)\"],\"name\":\"Percent of estimated registered voters\",\"type\":\"scatter\",\"x\":[49.1,42.0,52.7,84.3,51.7,61.1,55.3,64.2,91.1,58.9],\"mode\":\"markers\",\"marker\":{\"symbol\":\"circle\",\"line\":{\"width\":1,\"color\":\"rgba(217, 217, 217, 1.0)\"},\"size\":16,\"color\":\"rgba(204, 204, 204, 0.95)\"}}]}",
      "text/html": [
       "<div id=\"3fa43ffe-79bf-4652-b086-0c974f31d927\" class=\"plotly-graph-div\"></div>\n",
       "\n",
       "<script>\n",
       "    window.PLOTLYENV=window.PLOTLYENV || {};\n",
       "    window.PLOTLYENV.BASE_URL=\"https://plot.ly\";\n",
       "    require(['plotly'], function(Plotly) {\n",
       "        Plotly.newPlot('3fa43ffe-79bf-4652-b086-0c974f31d927', [{\"y\":[\"Switzerland (2011)\",\"Chile (2013)\",\"Japan (2014)\",\"United States (2012)\",\"Slovenia (2014)\",\"Canada (2011)\",\"Poland (2010)\",\"Estonia (2015)\",\"Luxembourg (2013)\",\"Portugal (2011)\"],\"name\":\"Percent of estimated voting age population\",\"type\":\"scatter\",\"x\":[40.0,45.7,52.0,53.6,54.1,54.2,54.5,54.7,55.1,56.6],\"mode\":\"markers\",\"marker\":{\"symbol\":\"circle\",\"line\":{\"width\":1,\"color\":\"rgba(156, 165, 196, 1.0)\"},\"size\":16,\"color\":\"rgba(156, 165, 196, 0.95)\"}},{\"y\":[\"Switzerland (2011)\",\"Chile (2013)\",\"Japan (2014)\",\"United States (2012)\",\"Slovenia (2014)\",\"Canada (2011)\",\"Poland (2010)\",\"Estonia (2015)\",\"Luxembourg (2013)\",\"Portugal (2011)\"],\"name\":\"Percent of estimated registered voters\",\"type\":\"scatter\",\"x\":[49.1,42.0,52.7,84.3,51.7,61.1,55.3,64.2,91.1,58.9],\"mode\":\"markers\",\"marker\":{\"symbol\":\"circle\",\"line\":{\"width\":1,\"color\":\"rgba(217, 217, 217, 1.0)\"},\"size\":16,\"color\":\"rgba(204, 204, 204, 0.95)\"}}],\n",
       "               {\"plot_bgcolor\":\"rgb(254, 247, 234)\",\"width\":600,\"hovermode\":\"closest\",\"legend\":{\"font\":{\"size\":10},\"xanchor\":\"right\",\"yanchor\":\"middle\"},\"xaxis\":{\"linecolor\":\"rgb(102, 102, 102)\",\"showline\":true,\"titlefont\":{\"font\":{\"color\":\"rgb(204, 204, 204)\"}},\"tickcolor\":\"rgb(102, 102, 102)\",\"showgrid\":false,\"tickfont\":{\"font\":{\"color\":\"rgb(102, 102, 102)\"}},\"dtick\":10,\"ticks\":\"outside\",\"autotick\":false},\"paper_bgcolor\":\"rgb(254, 247, 234)\",\"title\":\"Votes cast for ten lowest voting age population in OECD countries\",\"margin\":{\"r\":40,\"l\":140,\"b\":50,\"t\":80},\"height\":600}, {showLink: false});\n",
       "\n",
       "    });\n",
       " </script>\n"
      ]
     },
     "execution_count": 43,
     "metadata": {},
     "output_type": "execute_result"
    }
   ],
   "source": []
  },
  {
   "cell_type": "code",
   "execution_count": null,
   "metadata": {
    "collapsed": true
   },
   "outputs": [],
   "source": []
  },
  {
   "cell_type": "code",
   "execution_count": 42,
   "metadata": {},
   "outputs": [
    {
     "data": {
      "application/vnd.plotly.v1+json": "{\"layout\":{\"margin\":{\"r\":50,\"l\":50,\"b\":50,\"t\":60}},\"data\":[{\"y\":[0,2,3,5],\"type\":\"scatter\",\"x\":[1,2,3,4],\"fill\":\"tozeroy\"},{\"y\":[3,5,1,7],\"type\":\"scatter\",\"x\":[1,2,3,4],\"fill\":\"tonexty\"}]}",
      "text/html": [
       "<div id=\"30883eb3-01ee-4acf-8575-b70727d0dd2e\" class=\"plotly-graph-div\"></div>\n",
       "\n",
       "<script>\n",
       "    window.PLOTLYENV=window.PLOTLYENV || {};\n",
       "    window.PLOTLYENV.BASE_URL=\"https://plot.ly\";\n",
       "    require(['plotly'], function(Plotly) {\n",
       "        Plotly.newPlot('30883eb3-01ee-4acf-8575-b70727d0dd2e', [{\"y\":[0,2,3,5],\"type\":\"scatter\",\"x\":[1,2,3,4],\"fill\":\"tozeroy\"},{\"y\":[3,5,1,7],\"type\":\"scatter\",\"x\":[1,2,3,4],\"fill\":\"tonexty\"}],\n",
       "               {\"margin\":{\"r\":50,\"l\":50,\"b\":50,\"t\":60}}, {showLink: false});\n",
       "\n",
       "    });\n",
       " </script>\n"
      ]
     },
     "execution_count": 42,
     "metadata": {},
     "output_type": "execute_result"
    }
   ],
   "source": [
    "function area1()\n",
    "    trace1 = scatter(;x=1:4, y=[0, 2, 3, 5], fill=\"tozeroy\")\n",
    "    trace2 = scatter(;x=1:4, y=[3, 5, 1, 7], fill=\"tonexty\")\n",
    "    plot([trace1, trace2])\n",
    "end\n",
    "area1()"
   ]
  },
  {
   "cell_type": "code",
   "execution_count": null,
   "metadata": {},
   "outputs": [],
   "source": [
    "function dumbell()\n",
    "    # reference: https://plot.ly/r/dumbbell-plots/\n",
    "    @eval using DataFrames\n",
    "\n",
    "    # read Data into dataframe\n",
    "    nm = tempname()\n",
    "    url = \"https://raw.githubusercontent.com/plotly/datasets/master/school_earnings.csv\"\n",
    "    download(url, nm)\n",
    "    df = readtable(nm)\n",
    "    rm(nm)\n",
    "\n",
    "    # sort dataframe by male earnings\n",
    "    df = sort(df, cols=[:Men], rev=false)\n",
    "\n",
    "    men = scatter(;y=df[:School], x=df[:Men], mode=\"markers\", name=\"Men\",\n",
    "                   marker=attr(color=\"blue\", size=12))\n",
    "    women = scatter(;y=df[:School], x=df[:Women], mode=\"markers\", name=\"Women\",\n",
    "                     marker=attr(color=\"pink\", size=12))\n",
    "\n",
    "    lines = map(eachrow(df)) do r\n",
    "        scatter(y=fill(r[:School], 2), x=[r[:Women], r[:Men]], mode=\"lines\",\n",
    "                name=r[:School], showlegend=false, line_color=\"gray\")\n",
    "    end\n",
    "\n",
    "    data = Base.typed_vcat(GenericTrace, men, women, lines)\n",
    "    layout = Layout(width=650, height=650, margin_l=100, yaxis_title=\"School\",\n",
    "                    xaxis_title=\"Annual Salary (thousands)\",\n",
    "                    title=\"Gender earnings disparity\")\n",
    "\n",
    "    plot(data, layout)\n",
    "end\n",
    "dumbell()"
   ]
  },
  {
   "cell_type": "code",
   "execution_count": null,
   "metadata": {},
   "outputs": [],
   "source": [
    "function subplots1()\n",
    "    p1 = linescatter1()\n",
    "    p2 = linescatter3()\n",
    "    p3 = area1()\n",
    "    p4 = dumbell()\n",
    "    p = [p1 p2; p3 p4]\n",
    "    p.plot.layout[\"showlegend\"] = false\n",
    "    p.plot.layout[\"width\"] = 1000\n",
    "    p.plot.layout[\"height\"] = 600\n",
    "    p\n",
    "end\n",
    "subplots1()"
   ]
  }
 ],
 "metadata": {
  "kernelspec": {
   "display_name": "Julia 0.5.1",
   "language": "julia",
   "name": "julia-0.5"
  },
  "language_info": {
   "file_extension": ".jl",
   "mimetype": "application/julia",
   "name": "julia",
   "version": "0.5.1"
  }
 },
 "nbformat": 4,
 "nbformat_minor": 2
}
