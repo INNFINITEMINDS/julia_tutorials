{
 "cells": [
  {
   "cell_type": "markdown",
   "metadata": {
    "slideshow": {
     "slide_type": "slide"
    }
   },
   "source": [
    "### Plotting with Gadfly.jl\n",
    "\n",
    "* [GitHub Repository](https://github.com/GiovineItalia/Gadfly.jl)\n",
    "* [Documentation](http://gadflyjl.org/stable/)"
   ]
  },
  {
   "cell_type": "markdown",
   "metadata": {
    "slideshow": {
     "slide_type": "slide"
    }
   },
   "source": [
    "## Imports"
   ]
  },
  {
   "cell_type": "code",
   "execution_count": null,
   "metadata": {
    "slideshow": {
     "slide_type": "-"
    }
   },
   "outputs": [],
   "source": [
    "using Gadfly\n",
    "using DataFrames, RDatasets"
   ]
  },
  {
   "cell_type": "markdown",
   "metadata": {
    "slideshow": {
     "slide_type": "slide"
    }
   },
   "source": [
    "# Basics\n",
    "\n",
    "## Simple line scatter\n",
    "\n",
    "* Pass data keyword arguments inputs"
   ]
  },
  {
   "cell_type": "code",
   "execution_count": null,
   "metadata": {
    "slideshow": {
     "slide_type": "-"
    }
   },
   "outputs": [],
   "source": [
    "function linescatter()\n",
    "    x = [1, 2, 3, 4]\n",
    "    y = [10, 15, 13, 17]\n",
    "    plot(x=x,y=y, Geom.line)\n",
    "end\n",
    "linescatter()"
   ]
  },
  {
   "cell_type": "markdown",
   "metadata": {
    "slideshow": {
     "slide_type": "slide"
    }
   },
   "source": [
    "### Customize and add multiple traces to one plot\n",
    "\n",
    "* Each trace is a layer with its own aesthetics\n",
    "\n",
    "**Challenge:** How to plot dashes?"
   ]
  },
  {
   "cell_type": "code",
   "execution_count": null,
   "metadata": {
    "slideshow": {
     "slide_type": "-"
    }
   },
   "outputs": [],
   "source": [
    "function multiple_scatter_traces()\n",
    "    x=1:4\n",
    "    l1 = layer(x = x, y = [10, 15, 13, 17],  Geom.point)\n",
    "    l2 = layer(x = x, y = [16, 5, 11, 9], Geom.line)\n",
    "    l3 = layer(x = x, y = [12, 9, 15, 12], Geom.point, Geom.line)\n",
    "    l4 = layer(x = x, y = [5, 10, 8, 12], Geom.line)\n",
    "    plot(l1, l2, l3, l4)\n",
    "end\n",
    "multiple_scatter_traces()"
   ]
  },
  {
   "cell_type": "markdown",
   "metadata": {
    "slideshow": {
     "slide_type": "slide"
    }
   },
   "source": [
    "### Data labels and Figure Layout\n",
    "\n",
    "* Add the array of labels as an attribute to each trace\n",
    "* Layout modifies the \"Figure Pane Attributes\""
   ]
  },
  {
   "cell_type": "code",
   "execution_count": null,
   "metadata": {
    "scrolled": true,
    "slideshow": {
     "slide_type": "-"
    }
   },
   "outputs": [],
   "source": [
    "function data_labels()\n",
    "    x = 1:5\n",
    "    y1 = [1, 6, 3, 6, 1]\n",
    "    y2 = [4, 1, 7, 1, 4]\n",
    "    y1_labels = [\"A-1\", \"A-2\", \"A-3\", \"A-4\", \"A-5\"]\n",
    "    y2_labels = [\"B-a\", \"B-b\", \"B-c\", \"B-d\", \"B-e\"]\n",
    "\n",
    "    l1 = layer(x = x, y = y1, label=y1_labels, Geom.label, Geom.point)\n",
    "    l2 = layer(x = x, y = y2, label=y2_labels, Geom.label, Geom.point) \n",
    "    plot(l1,l2)\n",
    "end\n",
    "data_labels()"
   ]
  },
  {
   "cell_type": "markdown",
   "metadata": {
    "slideshow": {
     "slide_type": "slide"
    }
   },
   "source": [
    "## Area"
   ]
  },
  {
   "cell_type": "code",
   "execution_count": null,
   "metadata": {
    "slideshow": {
     "slide_type": "-"
    }
   },
   "outputs": [],
   "source": [
    "function area1()\n",
    "end\n",
    "area1()"
   ]
  },
  {
   "cell_type": "markdown",
   "metadata": {
    "slideshow": {
     "slide_type": "slide"
    }
   },
   "source": [
    "## Other visual interpretations of Matrix Data and Subplots\n"
   ]
  },
  {
   "cell_type": "code",
   "execution_count": null,
   "metadata": {
    "collapsed": true,
    "slideshow": {
     "slide_type": "-"
    }
   },
   "outputs": [],
   "source": [
    "function matrix_subplots()\n",
    "\n",
    "end\n",
    "\n",
    "matrix_subplots()"
   ]
  },
  {
   "cell_type": "markdown",
   "metadata": {
    "slideshow": {
     "slide_type": "slide"
    }
   },
   "source": [
    "## Advanced Layouts\n"
   ]
  },
  {
   "cell_type": "code",
   "execution_count": null,
   "metadata": {
    "collapsed": true,
    "slideshow": {
     "slide_type": "-"
    }
   },
   "outputs": [],
   "source": [
    "function advanced_layouts()\n",
    "\n",
    "end\n",
    "advanced_layouts()"
   ]
  },
  {
   "cell_type": "markdown",
   "metadata": {
    "slideshow": {
     "slide_type": "slide"
    }
   },
   "source": [
    "## Stats Plots"
   ]
  },
  {
   "cell_type": "code",
   "execution_count": null,
   "metadata": {
    "collapsed": true,
    "slideshow": {
     "slide_type": "-"
    }
   },
   "outputs": [],
   "source": [
    "function grouped_bar_example()\n",
    "\n",
    "end\n",
    "\n",
    "grouped_bar_example()"
   ]
  },
  {
   "cell_type": "code",
   "execution_count": null,
   "metadata": {
    "slideshow": {
     "slide_type": "slide"
    }
   },
   "outputs": [],
   "source": [
    "function stacked_bar_example()\n",
    "    \n",
    "end()\n",
    "stacked_bar_example()"
   ]
  },
  {
   "cell_type": "code",
   "execution_count": null,
   "metadata": {
    "collapsed": true,
    "scrolled": true,
    "slideshow": {
     "slide_type": "slide"
    }
   },
   "outputs": [],
   "source": [
    "function two_hists()\n",
    "\n",
    "end\n",
    "\n",
    "two_hists()"
   ]
  },
  {
   "cell_type": "markdown",
   "metadata": {
    "slideshow": {
     "slide_type": "slide"
    }
   },
   "source": [
    "## Box (Whisker) Plots"
   ]
  },
  {
   "cell_type": "code",
   "execution_count": null,
   "metadata": {
    "collapsed": true,
    "slideshow": {
     "slide_type": "-"
    }
   },
   "outputs": [],
   "source": [
    "function box_plot()\n",
    "   \n",
    "end\n",
    "box_plot()"
   ]
  },
  {
   "cell_type": "markdown",
   "metadata": {
    "slideshow": {
     "slide_type": "slide"
    }
   },
   "source": [
    "### Using DataFrames\n"
   ]
  },
  {
   "cell_type": "code",
   "execution_count": null,
   "metadata": {
    "scrolled": true,
    "slideshow": {
     "slide_type": "-"
    }
   },
   "outputs": [],
   "source": [
    "function data_frame_scatter()\n",
    "    iris = dataset(\"datasets\", \"iris\");\n",
    "    display(head(iris))\n",
    "end\n",
    "\n",
    "data_frame_scatter()"
   ]
  }
 ],
 "metadata": {
  "celltoolbar": "Slideshow",
  "kernelspec": {
   "display_name": "Julia 0.5.1",
   "language": "julia",
   "name": "julia-0.5"
  },
  "language_info": {
   "file_extension": ".jl",
   "mimetype": "application/julia",
   "name": "julia",
   "version": "0.5.1"
  }
 },
 "nbformat": 4,
 "nbformat_minor": 2
}
