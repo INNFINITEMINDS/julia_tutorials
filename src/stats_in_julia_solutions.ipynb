{
 "cells": [
  {
   "cell_type": "markdown",
   "metadata": {},
   "source": [
    "# Question 1\n",
    "\n",
    "Using the data in chronic_kidney_disease.csv, determine whether or not the oldest patient in the sample has chronic kidney disease. Note that the `class` variable indicates a patient's CKD status.\n",
    "\n",
    "As a hint, you will probably want to use the `maximum()` function and the `find()` function. \n",
    "\n",
    "And you'll need to consider how to handle `NA` values; there is a function `dropna()` that will be useful."
   ]
  },
  {
   "cell_type": "code",
   "execution_count": 37,
   "metadata": {
    "collapsed": false
   },
   "outputs": [],
   "source": [
    "using DataFrames\n",
    "\n",
    "ckd = readtable(\"../data/chronic_kidney_disease.csv\");\n"
   ]
  },
  {
   "cell_type": "code",
   "execution_count": 10,
   "metadata": {
    "collapsed": false
   },
   "outputs": [
    {
     "data": {
      "text/plain": [
       "1-element DataArrays.DataArray{String,1}:\n",
       " \"ckd\""
      ]
     },
     "execution_count": 10,
     "metadata": {},
     "output_type": "execute_result"
    }
   ],
   "source": [
    "maxage = maximum(dropna(ckd[:age]))   \n",
    "\n",
    "oldest_idx = find(ckd[:age] .== maxage) \n",
    "\n",
    "ckd[oldest_idx, :class]"
   ]
  },
  {
   "cell_type": "markdown",
   "metadata": {},
   "source": [
    "# Question 2"
   ]
  },
  {
   "cell_type": "markdown",
   "metadata": {},
   "source": [
    "Using the `chronic_kidney_disease.csv` dataset from above, use an appropriate statistical test to determine if patients with chronic kidney disease (CKD) have significantly higher blood urea than patients without CKD. \n",
    "\n",
    "As a hint, you will likely want to use the HypothesisTests package."
   ]
  },
  {
   "cell_type": "code",
   "execution_count": 10,
   "metadata": {
    "collapsed": false
   },
   "outputs": [
    {
     "data": {
      "text/plain": [
       "Two sample t-test (unequal variance)\n",
       "------------------------------------\n",
       "Population details:\n",
       "    parameter of interest:   Mean difference\n",
       "    value under h_0:         0\n",
       "    point estimate:          39.590418424753864\n",
       "    95% confidence interval: (31.86529602463314,47.31554082487459)\n",
       "\n",
       "Test summary:\n",
       "    outcome with 95% confidence: reject h_0\n",
       "    two-sided p-value:           1.7990230669795845e-20 (extremely significant)\n",
       "\n",
       "Details:\n",
       "    number of observations:   [237,144]\n",
       "    t-statistic:              10.090709649973618\n",
       "    degrees of freedom:       264.8784441340254\n",
       "    empirical standard error: 3.9234523435977935\n"
      ]
     },
     "execution_count": 10,
     "metadata": {},
     "output_type": "execute_result"
    }
   ],
   "source": [
    "using DataFrames\n",
    "using HypothesisTests\n",
    "\n",
    "ckd = readtable(\"../data/chronic_kidney_disease.csv\")\n",
    "\n",
    "# get row indices\n",
    "ckd_idcs = find(ckd[:class] .== \"ckd\")\n",
    "nonckd_idcs = find(ckd[:class] .== \"notckd\")\n",
    "\n",
    "# get `blood_urea` scores\n",
    "ckd_grp = ckd[ckd_idcs, :blood_urea]\n",
    "nonckd_grp = ckd[nonckd_idcs, :blood_urea]\n",
    "\n",
    "UnequalVarianceTTest(dropna(ckd_grp), dropna(nonckd_grp))"
   ]
  },
  {
   "cell_type": "markdown",
   "metadata": {},
   "source": [
    "---"
   ]
  },
  {
   "cell_type": "markdown",
   "metadata": {},
   "source": [
    "# Question 3\n",
    "Using the chronic_kidney_disease.csv data, determine which of the following predictors (if any) are related chronic kidney disease (CKD): \n",
    "\n",
    "`blood_urea`, \n",
    "\n",
    "`hemoglobin`, \n",
    "\n",
    "`red_blood_cell_count`, \n",
    "\n",
    "`white_blood_cell_count`.\n",
    "\n",
    "Hints:\n",
    "  - There are a few ways this could be done, let's use a single regression model of some kind\n",
    "  - Our outcome variable is `class` in the CKD data, this needs to be re-coded as 0/1 "
   ]
  },
  {
   "cell_type": "code",
   "execution_count": 6,
   "metadata": {
    "collapsed": false
   },
   "outputs": [
    {
     "data": {
      "text/plain": [
       "DataFrames.DataFrameRegressionModel{GLM.GeneralizedLinearModel{GLM.GlmResp{Array{Float64,1},Distributions.Binomial{Float64},GLM.LogitLink},GLM.DensePredChol{Float64,Base.LinAlg.Cholesky{Float64,Array{Float64,2}}}},Array{Float64,2}}\n",
       "\n",
       "Formula: has_ckd ~ 1 + blood_urea + hemoglobin + red_blood_cell_count + white_blood_cell_count\n",
       "\n",
       "Coefficients:\n",
       "                           Estimate   Std.Error  z value Pr(>|z|)\n",
       "(Intercept)                 20.5118     3.82243  5.36617    <1e-7\n",
       "blood_urea                0.0135445   0.0152221 0.889787   0.3736\n",
       "hemoglobin                  -1.4337    0.273702 -5.23817    <1e-6\n",
       "red_blood_cell_count      -0.685826    0.399729 -1.71573   0.0862\n",
       "white_blood_cell_count  0.000152042 0.000141559  1.07406   0.2828\n"
      ]
     },
     "execution_count": 6,
     "metadata": {},
     "output_type": "execute_result"
    }
   ],
   "source": [
    "using GLM\n",
    "using DataFrames\n",
    "\n",
    "ckd = readtable(\"../data/chronic_kidney_disease.csv\", makefactors = true)\n",
    "\n",
    "ckd[:has_ckd] = [x == \"ckd\" ? 1 : 0 for x in ckd[:class]]\n",
    "\n",
    "mod3 = @formula(has_ckd ~ 1 + blood_urea + hemoglobin + red_blood_cell_count + white_blood_cell_count)\n",
    "\n",
    "fm3 = glm(mod3, ckd, Binomial())"
   ]
  },
  {
   "cell_type": "markdown",
   "metadata": {},
   "source": [
    "# Question 4\n",
    "\n",
    "Using the `stagec` data from above, fit several random forest models predicting the `G2` score. Try experimenting with different numbers of trees and different numbers of variable subsets for candidate splitting (i.e., `m_try`, the third argument to the `build_forest()` function). \n",
    "\n",
    "In order to evaluate the quality of the models on training data, write a function that calculates the mean-squared error of the fitted model. The function should take 3 arguments: (1) the fitted model, (2) the vector with the outcome variable and (3) the matrix of predictors.\n",
    "\n",
    "What was the mean-squared error of your best-fitting model?\n",
    "\n",
    "Data can be loaded with the code below."
   ]
  },
  {
   "cell_type": "code",
   "execution_count": 11,
   "metadata": {
    "collapsed": false
   },
   "outputs": [
    {
     "data": {
      "text/plain": [
       "mse (generic function with 1 method)"
      ]
     },
     "execution_count": 11,
     "metadata": {},
     "output_type": "execute_result"
    }
   ],
   "source": [
    "# This is a quick function to obtain the mean-squared\n",
    "# error of a fitted random forest (or bagged tree) model.\n",
    "\n",
    "function mse(fitted, y, X)\n",
    "    yhat = apply_forest(fitted, X)\n",
    "    sqerr = (y .- yhat).^2\n",
    "    out = mean(sqerr)\n",
    "    return out\n",
    "end"
   ]
  },
  {
   "cell_type": "code",
   "execution_count": 14,
   "metadata": {
    "collapsed": false
   },
   "outputs": [
    {
     "name": "stderr",
     "output_type": "stream",
     "text": [
      "WARNING: using DecisionTree.fit! in module Main conflicts with an existing identifier.\n",
      "WARNING: using DecisionTree.R2 in module Main conflicts with an existing identifier.\n",
      "WARNING: using DecisionTree.predict in module Main conflicts with an existing identifier.\n"
     ]
    }
   ],
   "source": [
    "# Load the data\n",
    "using DecisionTree\n",
    "using RDatasets\n",
    "stagec = dataset(\"rpart\", \"stagec\")\n",
    "\n",
    "stagec_comp = stagec[completecases(stagec), :];"
   ]
  },
  {
   "cell_type": "code",
   "execution_count": 15,
   "metadata": {
    "collapsed": false
   },
   "outputs": [
    {
     "data": {
      "text/plain": [
       "Ensemble of Decision Trees\n",
       "Trees:      500\n",
       "Avg Leaves: 31.272\n",
       "Avg Depth:  9.914"
      ]
     },
     "execution_count": 15,
     "metadata": {},
     "output_type": "execute_result"
    }
   ],
   "source": [
    "# Clean up data and fit model\n",
    "\n",
    "is_tetraploid = stagec_comp[:Ploidy] .== \"tetraploid\"\n",
    "\n",
    "stagec_comp[:tetra] = is_tetraploid\n",
    "\n",
    "# must convert to Array\n",
    "y = convert(Array{Float64,1}, stagec_comp[:G2])\n",
    "X = convert(Array{Float64,2}, stagec_comp[[:Age, :Grade, :Gleason, :EET, :tetra]])\n",
    "\n",
    "fm4a = build_forest(y, X, 5, 100)\n",
    "fm4b = build_forest(y, X, 3, 100)\n",
    "fm4c = build_forest(y, X, 5, 500)"
   ]
  },
  {
   "cell_type": "code",
   "execution_count": 16,
   "metadata": {
    "collapsed": false
   },
   "outputs": [
    {
     "name": "stdout",
     "output_type": "stream",
     "text": [
      "mse(fm4a,y,X) = 18.4084866706618\n",
      "mse(fm4b,y,X) = 22.123257454931814\n",
      "mse(fm4c,y,X) = 18.49337910973606\n"
     ]
    },
    {
     "data": {
      "text/plain": [
       "18.49337910973606"
      ]
     },
     "execution_count": 16,
     "metadata": {},
     "output_type": "execute_result"
    }
   ],
   "source": [
    "@show mse(fm4a, y, X)\n",
    "@show mse(fm4b, y, X)\n",
    "@show mse(fm4c, y, X)"
   ]
  },
  {
   "cell_type": "markdown",
   "metadata": {},
   "source": [
    "# Question 5\n",
    "Using the `aldh2` dataset from the `gap` package in R, try fitting a few random forest (or bagged tree) models using Julia to predict whether a given patient is an alcoholic using their genetic information. <br>\n",
    "\n",
    "What is the prediction accuracy of your best model? What were the meta-paremeters of your best-fitting model? <br> \n",
    "\n",
    "The data can be loaded using the code below."
   ]
  },
  {
   "cell_type": "code",
   "execution_count": 30,
   "metadata": {
    "collapsed": false
   },
   "outputs": [],
   "source": [
    "using RDatasets\n",
    "using DecisionTree\n",
    "\n",
    "aldh2 = dataset(\"gap\", \"aldh2\");"
   ]
  },
  {
   "cell_type": "code",
   "execution_count": 33,
   "metadata": {
    "collapsed": false
   },
   "outputs": [
    {
     "data": {
      "text/plain": [
       "Ensemble of Decision Trees\n",
       "Trees:      500\n",
       "Avg Leaves: 64.718\n",
       "Avg Depth:  14.248"
      ]
     },
     "execution_count": 33,
     "metadata": {},
     "output_type": "execute_result"
    }
   ],
   "source": [
    "# must convert to Array\n",
    "y = convert(Array{Float64,1}, aldh2[:Y])\n",
    "X = convert(Array{Float64,2}, aldh2[:, 3:end])\n",
    "\n",
    "# fit model\n",
    "fm10 = build_forest(y, X, 10, 500)"
   ]
  },
  {
   "cell_type": "code",
   "execution_count": 34,
   "metadata": {
    "collapsed": false
   },
   "outputs": [
    {
     "data": {
      "text/html": [
       "0.9809885931558935"
      ],
      "text/plain": [
       "0.9809885931558935"
      ]
     },
     "execution_count": 34,
     "metadata": {},
     "output_type": "execute_result"
    }
   ],
   "source": [
    "# get prediction accuracy\n",
    "yhat_bool = apply_forest(fm10, X) .> 0.5\n",
    "ybool = y .== 1\n",
    "mean(ybool .== yhat_bool)"
   ]
  },
  {
   "cell_type": "markdown",
   "metadata": {},
   "source": [
    "# Question 6\n",
    "\n",
    "Use R and the randomForest package via the RCall.jl package in Julia to fit a random forest model on the `chronic_kidney_disease.csv` data set. In particular, fit a model with 5000 trees to predict whether or not patients have chronic kidney disease.\n",
    "\n",
    "After fitting the model, extract the variable importance estimates (mean Gini decrease) from the fitted model. Pass a dataframe back to Julia that has two columns (1) name of the predictor, and (2) mean Gini decrease for that predictor. \n",
    "\n",
    "Sort the returned data frame such that larger values are at the top.\n",
    "\n",
    "\n",
    "The following steps should serve as a general to complete this:\n",
    "\n",
    "1. Read the data in to Julia\n",
    "\n",
    "2. Ensure RCall.jl is loaded\n",
    "\n",
    "3. Pass the dataframe from Julia to R\n",
    "\n",
    "4. Fit the model in R using `randomForest()` function with argument `ntrees = 5000`\n",
    "\n",
    "5. Use the `importance()` function to extract the estimates of variable importance from the fitted model\n",
    "\n",
    "6. Pass the estimates back to Julia\n",
    "\n",
    "\n",
    "Some Hints:\n",
    "\n",
    "* The `importance()` function in R returns a data frame whose row names are the variable names, and the last column is mean Gini decrease\n",
    "\n",
    "* The documentation for the randomForest package in R can be found here:\n",
    "https://cran.r-project.org/web/packages/randomForest/randomForest.pdf\n",
    "\n",
    "* The `sortperm()` function in Julia will be useful for sorting in the last step\n"
   ]
  },
  {
   "cell_type": "code",
   "execution_count": 35,
   "metadata": {
    "collapsed": false
   },
   "outputs": [],
   "source": [
    "using DataFrames\n",
    "using RCall\n",
    "\n",
    "ckd = readtable(\"../data/chronic_kidney_disease.csv\", makefactors = true)\n",
    "\n",
    "@rput ckd \n",
    "\n",
    "R\"\n",
    "library(randomForest)\n",
    "\n",
    "ckd2 <- ckd[complete.cases(ckd), ]\n",
    "\n",
    "fm6 <- randomForest(class ~ ., ckd2, importance = TRUE, ntree = 5000)\n",
    "\n",
    "imp_df <- importance(fm6)\n",
    "\n",
    "gini_decrease <- imp_df[, ncol(imp_df)]\n",
    "\n",
    "preds <- row.names(imp_df)\n",
    "\n",
    "var_imp_df <- data.frame(preds, gini_decrease)\n",
    "\"\n",
    "@rget var_imp_df;"
   ]
  },
  {
   "cell_type": "code",
   "execution_count": 36,
   "metadata": {
    "collapsed": false
   },
   "outputs": [
    {
     "data": {
      "text/html": [
       "<table class=\"data-frame\"><thead><tr><th></th><th>preds</th><th>gini_decrease</th></tr></thead><tbody><tr><th>1</th><td>albumin</td><td>10.528785472387131</td></tr><tr><th>2</th><td>serum_creatinine</td><td>8.495935266588933</td></tr><tr><th>3</th><td>packed_cell_volume</td><td>8.464028488223644</td></tr><tr><th>4</th><td>hemoglobin</td><td>8.429654290508891</td></tr><tr><th>5</th><td>red_blood_cell_count</td><td>6.271603664880897</td></tr><tr><th>6</th><td>specific_gravity</td><td>5.007236467578002</td></tr><tr><th>7</th><td>blood_urea</td><td>3.8291587225446144</td></tr><tr><th>8</th><td>hypertension</td><td>3.462742578423633</td></tr><tr><th>9</th><td>pus_cell</td><td>1.6658062321366793</td></tr><tr><th>10</th><td>diabetes_mellitus</td><td>1.4476398822582155</td></tr><tr><th>11</th><td>blood_glucose_random</td><td>1.1276708111544038</td></tr><tr><th>12</th><td>sodium</td><td>0.8763004044795749</td></tr><tr><th>13</th><td>white_blood_cell_count</td><td>0.6245370157079878</td></tr><tr><th>14</th><td>sugar</td><td>0.39078418994729125</td></tr><tr><th>15</th><td>pedal_edema</td><td>0.33930089026073035</td></tr><tr><th>16</th><td>red_blood_cells</td><td>0.2988910818351664</td></tr><tr><th>17</th><td>blood_pressure</td><td>0.2900019107583536</td></tr><tr><th>18</th><td>appetite</td><td>0.23810780892452185</td></tr><tr><th>19</th><td>anemia</td><td>0.1488409699770888</td></tr><tr><th>20</th><td>pus_cell_clumps</td><td>0.07657110231857284</td></tr><tr><th>21</th><td>bacteria</td><td>0.07462022862745105</td></tr><tr><th>22</th><td>potassium</td><td>0.0720374255775934</td></tr><tr><th>23</th><td>age</td><td>0.06129996810401208</td></tr><tr><th>24</th><td>coronary_artery_disease</td><td>0.02509218813607227</td></tr></tbody></table>"
      ],
      "text/plain": [
       "24×2 DataFrames.DataFrame\n",
       "│ Row │ preds                     │ gini_decrease │\n",
       "├─────┼───────────────────────────┼───────────────┤\n",
       "│ 1   │ \"albumin\"                 │ 10.5288       │\n",
       "│ 2   │ \"serum_creatinine\"        │ 8.49594       │\n",
       "│ 3   │ \"packed_cell_volume\"      │ 8.46403       │\n",
       "│ 4   │ \"hemoglobin\"              │ 8.42965       │\n",
       "│ 5   │ \"red_blood_cell_count\"    │ 6.2716        │\n",
       "│ 6   │ \"specific_gravity\"        │ 5.00724       │\n",
       "│ 7   │ \"blood_urea\"              │ 3.82916       │\n",
       "│ 8   │ \"hypertension\"            │ 3.46274       │\n",
       "│ 9   │ \"pus_cell\"                │ 1.66581       │\n",
       "│ 10  │ \"diabetes_mellitus\"       │ 1.44764       │\n",
       "│ 11  │ \"blood_glucose_random\"    │ 1.12767       │\n",
       "│ 12  │ \"sodium\"                  │ 0.8763        │\n",
       "│ 13  │ \"white_blood_cell_count\"  │ 0.624537      │\n",
       "│ 14  │ \"sugar\"                   │ 0.390784      │\n",
       "│ 15  │ \"pedal_edema\"             │ 0.339301      │\n",
       "│ 16  │ \"red_blood_cells\"         │ 0.298891      │\n",
       "│ 17  │ \"blood_pressure\"          │ 0.290002      │\n",
       "│ 18  │ \"appetite\"                │ 0.238108      │\n",
       "│ 19  │ \"anemia\"                  │ 0.148841      │\n",
       "│ 20  │ \"pus_cell_clumps\"         │ 0.0765711     │\n",
       "│ 21  │ \"bacteria\"                │ 0.0746202     │\n",
       "│ 22  │ \"potassium\"               │ 0.0720374     │\n",
       "│ 23  │ \"age\"                     │ 0.0613        │\n",
       "│ 24  │ \"coronary_artery_disease\" │ 0.0250922     │"
      ]
     },
     "execution_count": 36,
     "metadata": {},
     "output_type": "execute_result"
    }
   ],
   "source": [
    "indcs = sortperm(var_imp_df[:, 2], rev = true)\n",
    "res = var_imp_df[indcs, :]"
   ]
  },
  {
   "cell_type": "code",
   "execution_count": null,
   "metadata": {
    "collapsed": true
   },
   "outputs": [],
   "source": []
  }
 ],
 "metadata": {
  "kernelspec": {
   "display_name": "Julia 0.5.0",
   "language": "julia",
   "name": "julia-0.5"
  },
  "language_info": {
   "file_extension": ".jl",
   "mimetype": "application/julia",
   "name": "julia",
   "version": "0.5.1"
  }
 },
 "nbformat": 4,
 "nbformat_minor": 0
}
