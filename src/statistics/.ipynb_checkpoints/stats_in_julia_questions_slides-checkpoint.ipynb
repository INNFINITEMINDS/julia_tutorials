{
 "cells": [
  {
   "cell_type": "markdown",
   "metadata": {
    "slideshow": {
     "slide_type": "slide"
    }
   },
   "source": [
    "<h1><center>Introduction to Julia for Statistics</center></h1>\n",
    "<h2><center>Paul Stey, PhD</center></h2>\n",
    "<h2><center>Brown Center for Biomedical Informatics</center></h2>\n",
    "<h2><center>April 5, 2017</center></h2>\n"
   ]
  },
  {
   "cell_type": "markdown",
   "metadata": {
    "slideshow": {
     "slide_type": "slide"
    }
   },
   "source": [
    "## AWS Server 1 (odd-numbered birthday)\n",
    "\n",
    "`http://ec2-52-90-118-171.compute-1.amazonaws.com:8889`\n",
    "\n",
    "\n",
    "\n",
    "## AWS Server 2 (even-numbered birthday)\n",
    "\n",
    "`http://ec2-184-73-77-58.compute-1.amazonaws.com:8888`"
   ]
  },
  {
   "cell_type": "markdown",
   "metadata": {
    "slideshow": {
     "slide_type": "slide"
    }
   },
   "source": [
    "# Question 1\n",
    "\n",
    "Using the data in chronic_kidney_disease.csv, determine whether or not the oldest patient in the sample has chronic kidney disease. Note that the `class` variable indicates a patient's CKD status.\n",
    "\n",
    "As a hint, you will probably want to use the `maximum()` function and the `find()` function. \n",
    "\n",
    "And you'll need to consider how to handle `NA` values; there is a function `dropna()` that will be useful."
   ]
  },
  {
   "cell_type": "markdown",
   "metadata": {
    "slideshow": {
     "slide_type": "slide"
    }
   },
   "source": [
    "# Question 2\n",
    "\n",
    "Using the `chronic_kidney_disease.csv` dataset from above, use an appropriate statistical test to determine if patients with chronic kidney disease (CKD) have significantly higher blood urea than patients without CKD. \n",
    "\n",
    "As a hint, you will likely want to use the HypothesisTests package."
   ]
  },
  {
   "cell_type": "markdown",
   "metadata": {
    "slideshow": {
     "slide_type": "slide"
    }
   },
   "source": [
    "# Question 3\n",
    "Using the chronic_kidney_disease.csv data, determine which of the following predictors (if any) are related chronic kidney disease (CKD): \n",
    "\n",
    "`blood_urea`, \n",
    "\n",
    "`hemoglobin`, \n",
    "\n",
    "`red_blood_cell_count`, \n",
    "\n",
    "`white_blood_cell_count`.\n",
    "\n",
    "Hints:\n",
    "  - There are a few ways this could be done, let's use a single regression model of some kind\n",
    "  - Our outcome variable is `class` in the CKD data, this needs to be re-coded as 0/1 "
   ]
  },
  {
   "cell_type": "markdown",
   "metadata": {
    "slideshow": {
     "slide_type": "slide"
    }
   },
   "source": [
    "# Question 4\n",
    "\n",
    "Using the `stagec` data from above, fit several random forest models predicting the `G2` score. Try experimenting with different numbers of trees and different numbers of variable subsets for candidate splitting (i.e., `m_try`, the third argument to the `build_forest()` function). \n",
    "\n",
    "In order to evaluate the quality of the models on training data, write a function that calculates the mean-squared error of the fitted model. The function should take 3 arguments: (1) the fitted model, (2) the vector with the outcome variable and (3) the matrix of predictors.\n",
    "\n",
    "What was the mean-squared error of your best-fitting model?\n",
    "\n",
    "Data can be loaded with the code below."
   ]
  },
  {
   "cell_type": "code",
   "execution_count": null,
   "metadata": {
    "collapsed": true
   },
   "outputs": [],
   "source": [
    "using DecisionTree\n",
    "using RDatasets\n",
    "\n",
    "stagec = dataset(\"rpart\", \"stagec\")"
   ]
  },
  {
   "cell_type": "markdown",
   "metadata": {
    "slideshow": {
     "slide_type": "slide"
    }
   },
   "source": [
    "# Question 5\n",
    "Using the `aldh2` dataset from the `gap` package in R, try fitting a few random forest (or bagged tree) models using Julia to predict whether a given patient is an alcoholic using their genetic information. <br>\n",
    "\n",
    "What is the prediction accuracy of your best model? What were the meta-paremeters of your best-fitting model? <br> \n",
    "\n",
    "The data can be loaded using the code below."
   ]
  },
  {
   "cell_type": "code",
   "execution_count": null,
   "metadata": {
    "collapsed": true
   },
   "outputs": [],
   "source": [
    "using RDatasets\n",
    "using DecisionTree\n",
    "\n",
    "aldh2 = dataset(\"gap\", \"aldh2\")"
   ]
  },
  {
   "cell_type": "markdown",
   "metadata": {
    "slideshow": {
     "slide_type": "slide"
    }
   },
   "source": [
    "# Question 6\n",
    "\n",
    "Use R and the randomForest package via the RCall.jl package in Julia to fit a random forest model on the `chronic_kidney_disease.csv` data set. In particular, fit a model with 5000 trees to predict whether or not patients have chronic kidney disease.\n",
    "\n",
    "After fitting the model, extract the variable importance estimates (mean Gini decrease) from the fitted model. Pass a dataframe back to Julia that has two columns (1) name of the predictor, and (2) mean Gini decrease for that predictor. \n",
    "\n",
    "Sort the returned data frame such that more important predictors (i.e., larger values) are at the top.\n",
    "\n",
    "\n",
    "The following steps should serve as a general to complete this:\n",
    "\n",
    "1. Read the data in to Julia\n",
    "\n",
    "2. Ensure RCall.jl is loaded\n",
    "\n",
    "3. Pass the dataframe from Julia to R\n",
    "\n",
    "4. Fit the model in R using `randomForest()` function with argument `ntrees = 5000`\n",
    "\n",
    "5. Use the `importance()` function to extract the estimates of variable importance from the fitted model\n",
    "\n",
    "6. Pass the estimates back to Julia\n",
    "\n",
    "\n",
    "Some Hints:\n",
    "\n",
    "* The `importance()` function in R returns a data frame whose row names are the variable names, and the last column is mean Gini decrease\n",
    "\n",
    "* The documentation for the randomForest package in R can be found here:\n",
    "https://cran.r-project.org/web/packages/randomForest/randomForest.pdf\n",
    "\n",
    "* The `sortperm()` function will be useful for sorting in the last step\n"
   ]
  }
 ],
 "metadata": {
  "celltoolbar": "Slideshow",
  "kernelspec": {
   "display_name": "Julia 0.5.0",
   "language": "julia",
   "name": "julia-0.5"
  },
  "language_info": {
   "file_extension": ".jl",
   "mimetype": "application/julia",
   "name": "julia",
   "version": "0.5.1"
  }
 },
 "nbformat": 4,
 "nbformat_minor": 0
}
