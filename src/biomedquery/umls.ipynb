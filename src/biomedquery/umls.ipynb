{
 "cells": [
  {
   "cell_type": "markdown",
   "metadata": {},
   "source": [
    "# BioMedQuery.UMLS\n",
    "\n",
    "\n",
    "Utilities to search the Unified Medical Language System (UMLS). This is a Julia interface to their [REST API](https://documentation.uts.nlm.nih.gov/rest/home.html).\n",
    "\n",
    "Searching the UMLS requires approved credentials. You can sign up [here](https://uts.nlm.nih.gov//license.html)\n",
    "\n",
    "As of today, the following utilities are available:\n",
    "\n",
    "* verify credentials / issue umls tickets\n",
    "* search_umls\n",
    "* get the best maching cui from a query\n",
    "* get the semantic type"
   ]
  },
  {
   "cell_type": "markdown",
   "metadata": {},
   "source": [
    "## 1. Set Up"
   ]
  },
  {
   "cell_type": "code",
   "execution_count": 56,
   "metadata": {
    "collapsed": false
   },
   "outputs": [
    {
     "data": {
      "text/plain": [
       "Dict{String,String} with 2 entries:\n",
       "  \"string\"     => \"asthma\"\n",
       "  \"searchType\" => \"exact\""
      ]
     },
     "execution_count": 56,
     "metadata": {},
     "output_type": "execute_result"
    }
   ],
   "source": [
    "using BioMedQuery.UMLS\n",
    "user = ENV[\"UMLS_USER\"];\n",
    "psswd = ENV[\"UMLS_PSSWD\"];\n",
    "credentials = Credentials(user, psswd)\n",
    "query = Dict(\"string\"=>\"asthma\", \"searchType\"=>\"exact\")"
   ]
  },
  {
   "cell_type": "markdown",
   "metadata": {},
   "source": [
    "## 2. Get a ticket and submit query"
   ]
  },
  {
   "cell_type": "code",
   "execution_count": 57,
   "metadata": {
    "collapsed": false
   },
   "outputs": [
    {
     "name": "stdout",
     "output_type": "stream",
     "text": [
      "Requesting new TGT\n"
     ]
    },
    {
     "data": {
      "text/plain": [
       "1-element Array{Any,1}:\n",
       " Dict{String,Any}(Pair{String,Any}(\"pageSize\",25),Pair{String,Any}(\"pageNumber\",1),Pair{String,Any}(\"result\",Dict{String,Any}(Pair{String,Any}(\"classType\",\"searchResults\"),Pair{String,Any}(\"results\",Any[Dict{String,Any}(Pair{String,Any}(\"name\",\"Asthma\"),Pair{String,Any}(\"uri\",\"https://uts-ws.nlm.nih.gov/rest/content/2016AB/CUI/C0004096\"),Pair{String,Any}(\"ui\",\"C0004096\"),Pair{String,Any}(\"rootSource\",\"MTH\")),Dict{String,Any}(Pair{String,Any}(\"name\",\"Asthma Pathway\"),Pair{String,Any}(\"uri\",\"https://uts-ws.nlm.nih.gov/rest/content/2016AB/CUI/C2984299\"),Pair{String,Any}(\"ui\",\"C2984299\"),Pair{String,Any}(\"rootSource\",\"MTH\"))]))))"
      ]
     },
     "execution_count": 57,
     "metadata": {},
     "output_type": "execute_result"
    }
   ],
   "source": [
    "tgt = get_tgt(credentials)\n",
    "all_results = search_umls(tgt, query)"
   ]
  },
  {
   "cell_type": "markdown",
   "metadata": {},
   "source": [
    "## 3.  Get best matching cui and it's semantic type"
   ]
  },
  {
   "cell_type": "code",
   "execution_count": 58,
   "metadata": {
    "collapsed": false
   },
   "outputs": [
    {
     "data": {
      "text/plain": [
       "\"C0004096\""
      ]
     },
     "metadata": {},
     "output_type": "display_data"
    },
    {
     "data": {
      "text/plain": [
       "1-element Array{String,1}:\n",
       " \"Disease or Syndrome\""
      ]
     },
     "metadata": {},
     "output_type": "display_data"
    }
   ],
   "source": [
    "cui = best_match_cui(all_results)\n",
    "display(cui)\n",
    "sm = get_semantic_type(tgt, cui)\n",
    "display(sm)"
   ]
  },
  {
   "cell_type": "markdown",
   "metadata": {},
   "source": [
    "### Processes available for UMLS\n",
    "\n",
    "a. Get all UMLS semantic types for all MeSH sotore in a database corresponding to results from an Entrez query\n",
    "\n",
    "b. For all articles in the 'results' database, filter all MeSH associated with a specific semantic type"
   ]
  },
  {
   "cell_type": "code",
   "execution_count": 59,
   "metadata": {
    "collapsed": false
   },
   "outputs": [
    {
     "name": "stdout",
     "output_type": "stream",
     "text": [
      "----------Matching MESH to UMLS-----------\n",
      "Requesting new TGT\n",
      ".........................................................................................\n",
      "--------------------------------------------------\n"
     ]
    },
    {
     "data": {
      "text/plain": [
       "([4.27517,4.27482,2.95808,4.22348,4.2667,4.27372,4.26674,4.26474,3.82469,4.29467  …  1.54334,1.60487,1.54553,1.54278,1.60451,1.40106,1.54265,1.69459,1.49306,1.54475],[200.0,200.0,200.0,200.0,200.0,200.0,200.0,200.0,200.0,200.0  …  200.0,200.0,200.0,200.0,200.0,200.0,200.0,200.0,200.0,200.0])"
      ]
     },
     "execution_count": 59,
     "metadata": {},
     "output_type": "execute_result"
    }
   ],
   "source": [
    "using BioMedQuery.Processes\n",
    "using MySQL\n",
    "\n",
    "db_host = \"127.0.0.1\"\n",
    "mysql_usr = \"root\"\n",
    "mysql_pswd = \"bcbi123\"\n",
    "dbname = \"biomed_query_test\"\n",
    "\n",
    "db = mysql_connect(db_host, mysql_usr, mysql_pswd, dbname)\n",
    "\n",
    "map_mesh_to_umls_async!(db, credentials)\n"
   ]
  },
  {
   "cell_type": "code",
   "execution_count": 60,
   "metadata": {
    "collapsed": false
   },
   "outputs": [
    {
     "data": {
      "text/html": [
       "<table class=\"data-frame\"><thead><tr><th></th><th>Tables_in_biomed_query_test</th></tr></thead><tbody><tr><th>1</th><td>article</td></tr><tr><th>2</th><td>author</td></tr><tr><th>3</th><td>author2article</td></tr><tr><th>4</th><td>mesh2umls</td></tr><tr><th>5</th><td>mesh_descriptor</td></tr><tr><th>6</th><td>mesh_heading</td></tr><tr><th>7</th><td>mesh_qualifier</td></tr></tbody></table>"
      ],
      "text/plain": [
       "7×1 DataFrames.DataFrame\n",
       "│ Row │ Tables_in_biomed_query_test │\n",
       "├─────┼─────────────────────────────┤\n",
       "│ 1   │ \"article\"                   │\n",
       "│ 2   │ \"author\"                    │\n",
       "│ 3   │ \"author2article\"            │\n",
       "│ 4   │ \"mesh2umls\"                 │\n",
       "│ 5   │ \"mesh_descriptor\"           │\n",
       "│ 6   │ \"mesh_heading\"              │\n",
       "│ 7   │ \"mesh_qualifier\"            │"
      ]
     },
     "metadata": {},
     "output_type": "display_data"
    }
   ],
   "source": [
    "tables = mysql_execute(db, \"show tables;\")\n",
    "display(tables)"
   ]
  },
  {
   "cell_type": "code",
   "execution_count": 61,
   "metadata": {
    "collapsed": false
   },
   "outputs": [
    {
     "data": {
      "text/html": [
       "<table class=\"data-frame\"><thead><tr><th></th><th>mesh</th><th>umls</th></tr></thead><tbody><tr><th>1</th><td>adaptation, psychological</td><td>Individual Behavior</td></tr><tr><th>2</th><td>adolescent</td><td>Age Group</td></tr><tr><th>3</th><td>adult</td><td>Age Group</td></tr><tr><th>4</th><td>aged</td><td>Organism Attribute</td></tr><tr><th>5</th><td>agriculture</td><td>Occupation or Discipline</td></tr><tr><th>6</th><td>agrochemicals</td><td>Chemical Viewed Functionally</td></tr><tr><th>7</th><td>allergens</td><td>Immunologic Factor</td></tr><tr><th>8</th><td>animals</td><td>Animal</td></tr><tr><th>9</th><td>antigens, dermatophagoides</td><td>Amino Acid, Peptide, or Protein</td></tr><tr><th>10</th><td>antigens, dermatophagoides</td><td>Immunologic Factor</td></tr><tr><th>11</th><td>appointments and schedules</td><td>Temporal Concept</td></tr><tr><th>12</th><td>asthma</td><td>Disease or Syndrome</td></tr><tr><th>13</th><td>asthma, exercise-induced</td><td>Disease or Syndrome</td></tr><tr><th>14</th><td>body mass index</td><td>Diagnostic Procedure</td></tr><tr><th>15</th><td>bronchoalveolar lavage fluid</td><td>Body Substance</td></tr><tr><th>16</th><td>calcitriol</td><td>Organic Chemical</td></tr><tr><th>17</th><td>calcitriol</td><td>Pharmacologic Substance</td></tr><tr><th>18</th><td>calcitriol</td><td>Vitamin</td></tr><tr><th>19</th><td>caregivers</td><td>Professional or Occupational Group</td></tr><tr><th>20</th><td>child</td><td>Age Group</td></tr><tr><th>21</th><td>child, preschool</td><td>Age Group</td></tr><tr><th>22</th><td>china</td><td>Geographic Area</td></tr><tr><th>23</th><td>cockroaches</td><td>Eukaryote</td></tr><tr><th>24</th><td>cost savings</td><td>Quantitative Concept</td></tr><tr><th>25</th><td>cotton fiber</td><td>Substance</td></tr><tr><th>26</th><td>cross reactions</td><td>Molecular Function</td></tr><tr><th>27</th><td>cross-sectional studies</td><td>Research Activity</td></tr><tr><th>28</th><td>cytokines</td><td>Cell Function</td></tr><tr><th>29</th><td>dermatophagoides pteronyssinus</td><td>Immunologic Factor</td></tr><tr><th>30</th><td>dermatophagoides pteronyssinus</td><td>Pharmacologic Substance</td></tr><tr><th>&vellip;</th><td>&vellip;</td><td>&vellip;</td></tr></tbody></table>"
      ],
      "text/plain": [
       "95×2 DataFrames.DataFrame\n",
       "│ Row │ mesh                         │ umls                              │\n",
       "├─────┼──────────────────────────────┼───────────────────────────────────┤\n",
       "│ 1   │ \"adaptation, psychological\"  │ \"Individual Behavior\"             │\n",
       "│ 2   │ \"adolescent\"                 │ \"Age Group\"                       │\n",
       "│ 3   │ \"adult\"                      │ \"Age Group\"                       │\n",
       "│ 4   │ \"aged\"                       │ \"Organism Attribute\"              │\n",
       "│ 5   │ \"agriculture\"                │ \"Occupation or Discipline\"        │\n",
       "│ 6   │ \"agrochemicals\"              │ \"Chemical Viewed Functionally\"    │\n",
       "│ 7   │ \"allergens\"                  │ \"Immunologic Factor\"              │\n",
       "│ 8   │ \"animals\"                    │ \"Animal\"                          │\n",
       "│ 9   │ \"antigens, dermatophagoides\" │ \"Amino Acid, Peptide, or Protein\" │\n",
       "│ 10  │ \"antigens, dermatophagoides\" │ \"Immunologic Factor\"              │\n",
       "│ 11  │ \"appointments and schedules\" │ \"Temporal Concept\"                │\n",
       "⋮\n",
       "│ 84  │ \"risk factors\"               │ \"Quantitative Concept\"            │\n",
       "│ 85  │ \"severity of illness index\"  │ \"Quantitative Concept\"            │\n",
       "│ 86  │ \"skin tests\"                 │ \"Diagnostic Procedure\"            │\n",
       "│ 87  │ \"smoking\"                    │ \"Individual Behavior\"             │\n",
       "│ 88  │ \"socioeconomic factors\"      │ \"Group Attribute\"                 │\n",
       "│ 89  │ \"surveys and questionnaires\" │ \"Research Activity\"               │\n",
       "│ 90  │ \"textile industry\"           │ \"Organization\"                    │\n",
       "│ 91  │ \"tobacco smoke pollution\"    │ \"Environmental Effect of Humans\"  │\n",
       "│ 92  │ \"tunisia\"                    │ \"Geographic Area\"                 │\n",
       "│ 93  │ \"united states\"              │ \"Geographic Area\"                 │\n",
       "│ 94  │ \"wood\"                       │ \"Substance\"                       │\n",
       "│ 95  │ \"young adult\"                │ \"Age Group\"                       │"
      ]
     },
     "metadata": {},
     "output_type": "display_data"
    }
   ],
   "source": [
    "mesh2umls = mysql_execute(db, \"select * from mesh2umls\")\n",
    "display(mesh2umls)"
   ]
  },
  {
   "cell_type": "markdown",
   "metadata": {},
   "source": [
    "### b. Filter by semantic type"
   ]
  },
  {
   "cell_type": "code",
   "execution_count": 62,
   "metadata": {
    "collapsed": false
   },
   "outputs": [
    {
     "data": {
      "text/plain": [
       "Dict{Any,Any} with 9 entries:\n",
       "  \"rhinitis, allergic\"            => 1\n",
       "  \"asthma, exercise-induced\"      => 2\n",
       "  \"otitis media\"                  => 3\n",
       "  \"rhinitis, allergic, seasonal\"  => 4\n",
       "  \"obesity\"                       => 5\n",
       "  \"occupational diseases\"         => 6\n",
       "  \"asthma\"                        => 7\n",
       "  \"respiratory tract infections\"  => 8\n",
       "  \"rhinitis, allergic, perennial\" => 9"
      ]
     },
     "metadata": {},
     "output_type": "display_data"
    },
    {
     "data": {
      "text/plain": [
       "9×10 Array{Float64,2}:\n",
       " 0.0  0.0  1.0  0.0  0.0  0.0  0.0  0.0  0.0  0.0\n",
       " 0.0  1.0  0.0  0.0  0.0  0.0  0.0  0.0  0.0  0.0\n",
       " 0.0  0.0  0.0  0.0  0.0  0.0  0.0  0.0  0.0  1.0\n",
       " 0.0  0.0  0.0  0.0  0.0  0.0  0.0  1.0  0.0  0.0\n",
       " 0.0  1.0  0.0  0.0  0.0  0.0  0.0  0.0  0.0  0.0\n",
       " 0.0  0.0  0.0  1.0  0.0  0.0  0.0  0.0  0.0  0.0\n",
       " 1.0  0.0  1.0  1.0  1.0  1.0  1.0  1.0  1.0  1.0\n",
       " 0.0  0.0  0.0  0.0  0.0  0.0  0.0  0.0  0.0  1.0\n",
       " 0.0  0.0  0.0  0.0  0.0  0.0  0.0  1.0  0.0  0.0"
      ]
     },
     "metadata": {},
     "output_type": "display_data"
    },
    {
     "name": "stdout",
     "output_type": "stream",
     "text": [
      "-------------------------------------------------------------\n",
      "Found 9 MESH decriptor related to  Disease or Syndrome\n",
      "Set(AbstractString[\"rhinitis, allergic\",\"asthma, exercise-induced\",\"otitis media\",\"rhinitis, allergic, seasonal\",\"obesity\",\"occupational diseases\",\"asthma\",\"respiratory tract infections\",\"rhinitis, allergic, perennial\"])\n",
      "-------------------------------------------------------------\n",
      "-------------------------------------------------------------\n",
      "Found 10 articles with valid descriptors\n",
      "-------------------------------------------------------------\n",
      "-------------------------------------------------------------\n",
      "Output Descritor to Index Dictionary\n",
      "-------------------------------------------------------------\n",
      "-------------------------------------------------------------\n",
      "Output Data Matrix\n",
      "-------------------------------------------------------------\n"
     ]
    }
   ],
   "source": [
    "labels2ind, occur = umls_semantic_occurrences(db, \"Disease or Syndrome\")\n",
    "\n",
    "println(\"-------------------------------------------------------------\")\n",
    "println(\"Output Descritor to Index Dictionary\")\n",
    "display(labels2ind)\n",
    "println(\"-------------------------------------------------------------\")\n",
    "\n",
    "println(\"-------------------------------------------------------------\")\n",
    "println(\"Output Data Matrix\")\n",
    "display(full(occur))\n",
    "println(\"-------------------------------------------------------------\")\n"
   ]
  },
  {
   "cell_type": "markdown",
   "metadata": {},
   "source": [
    "### Plot conditional probabilities as a histogram"
   ]
  },
  {
   "cell_type": "code",
   "execution_count": 64,
   "metadata": {
    "collapsed": false
   },
   "outputs": [
    {
     "data": {
      "text/plain": [
       "9-element Array{Any,1}:\n",
       " \"rhinitis, allergic\"           \n",
       " \"asthma, exercise-induced\"     \n",
       " \"otitis media\"                 \n",
       " \"rhinitis, allergic, seasonal\" \n",
       " \"obesity\"                      \n",
       " \"occupational diseases\"        \n",
       " \"asthma\"                       \n",
       " \"respiratory tract infections\" \n",
       " \"rhinitis, allergic, perennial\""
      ]
     },
     "execution_count": 64,
     "metadata": {},
     "output_type": "execute_result"
    }
   ],
   "source": [
    "collect(keys(labels2ind))"
   ]
  },
  {
   "cell_type": "code",
   "execution_count": 73,
   "metadata": {
    "collapsed": false
   },
   "outputs": [
    {
     "data": {
      "application/vnd.plotly.v1+json": "{\"layout\":{\"margin\":{\"r\":100,\"l\":30,\"b\":100,\"t\":0}},\"data\":[{\"y\":[0.1,0.1,0.1,0.1,0.1,0.1,0.9,0.1,0.1],\"type\":\"bar\",\"x\":[\"rhinitis, allergic\",\"asthma, exercise-induced\",\"otitis media\",\"rhinitis, allergic, seasonal\",\"obesity\",\"occupational diseases\",\"asthma\",\"respiratory tract infections\",\"rhinitis, allergic, perennial\"],\"marker\":{\"line\":{\"width\":2,\"color\":\"rgba(50, 171, 96, 1.0)\"},\"color\":\"rgba(50, 171, 96, 0.7)\"}}]}",
      "text/html": [
       "<div id=\"39517097-c0e0-4b2a-8d11-39b55c488f60\" class=\"plotly-graph-div\"></div>\n",
       "\n",
       "<script>\n",
       "    window.PLOTLYENV=window.PLOTLYENV || {};\n",
       "    window.PLOTLYENV.BASE_URL=\"https://plot.ly\";\n",
       "    require(['plotly'], function(Plotly) {\n",
       "        Plotly.newPlot('39517097-c0e0-4b2a-8d11-39b55c488f60', [{\"y\":[0.1,0.1,0.1,0.1,0.1,0.1,0.9,0.1,0.1],\"type\":\"bar\",\"x\":[\"rhinitis, allergic\",\"asthma, exercise-induced\",\"otitis media\",\"rhinitis, allergic, seasonal\",\"obesity\",\"occupational diseases\",\"asthma\",\"respiratory tract infections\",\"rhinitis, allergic, perennial\"],\"marker\":{\"line\":{\"width\":2,\"color\":\"rgba(50, 171, 96, 1.0)\"},\"color\":\"rgba(50, 171, 96, 0.7)\"}}],\n",
       "               {\"margin\":{\"r\":100,\"l\":30,\"b\":100,\"t\":0}}, {showLink: false});\n",
       "\n",
       "    });\n",
       " </script>\n"
      ]
     },
     "execution_count": 73,
     "metadata": {},
     "output_type": "execute_result"
    }
   ],
   "source": [
    "using PlotlyJS\n",
    "\n",
    "trace1 = bar(;x=collect(keys(labels2ind)),\n",
    "            y=sum(occur, 2)[:]./10,\n",
    "            marker=attr(color=\"rgba(50, 171, 96, 0.7)\",\n",
    "            line=attr(color=\"rgba(50, 171, 96, 1.0)\", width=2)))\n",
    "\n",
    "data = [trace1]\n",
    "layout = Layout(;margin_b = 100,\n",
    "                 margin_r =100)\n",
    "\n",
    "plot(data, layout)"
   ]
  },
  {
   "cell_type": "code",
   "execution_count": null,
   "metadata": {
    "collapsed": true
   },
   "outputs": [],
   "source": []
  }
 ],
 "metadata": {
  "kernelspec": {
   "display_name": "Julia 0.5.1",
   "language": "julia",
   "name": "julia-0.5"
  },
  "language_info": {
   "file_extension": ".jl",
   "mimetype": "application/julia",
   "name": "julia",
   "version": "0.5.1"
  }
 },
 "nbformat": 4,
 "nbformat_minor": 2
}
